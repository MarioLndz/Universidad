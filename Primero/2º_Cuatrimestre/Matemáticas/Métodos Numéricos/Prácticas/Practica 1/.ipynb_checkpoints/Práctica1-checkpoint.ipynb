{
 "cells": [
  {
   "cell_type": "markdown",
   "id": "b33b1a7f",
   "metadata": {},
   "source": [
    "Mario Líndez Martínez"
   ]
  },
  {
   "cell_type": "markdown",
   "id": "35333307",
   "metadata": {},
   "source": [
    "# Práctica 1: Resolución de SEL. Métodos directos. Método de Gauss"
   ]
  },
  {
   "cell_type": "markdown",
   "id": "9b7d36bf",
   "metadata": {},
   "source": [
    "## Ejercicio 1:"
   ]
  },
  {
   "cell_type": "markdown",
   "id": "2f5fda6d",
   "metadata": {},
   "source": [
    "Escribe una función que resuelva por sustitución progresiva un sistema en el que la matriz de coeficientes es triangular inferior. Comprueba que se obtiene el mismo resultado utilizando dicha función que mediante la función solve de Numpy si lo aplicamos a las matrices"
   ]
  },
  {
   "cell_type": "code",
   "execution_count": 1,
   "id": "7ed50e2b",
   "metadata": {},
   "outputs": [],
   "source": [
    "import numpy as np"
   ]
  },
  {
   "cell_type": "code",
   "execution_count": 2,
   "id": "3d1ecfbc",
   "metadata": {},
   "outputs": [],
   "source": [
    "\"\"\"\n",
    "# Esta función resolverá un sistema Ax=b mediante sustitución progresiva\n",
    "# PRE: A y b deben ser arrays de numpy\n",
    "#      A debe ser una matriz triangular inferior\n",
    "\"\"\"\n",
    "def sust_progresiva(A, b):\n",
    "    A = A.astype(float)     #Cambiamos los elementos a tipo flotante\n",
    "    b = b.astype(float) \n",
    "    \n",
    "    n = np.size(b)\n",
    "    \n",
    "    x = np.zeros(n)         #Almacenaremos aquí la solución del sistema\n",
    "                       \n",
    "    # Resolvemos el sistema por sustitución progresiva\n",
    "    x[0] = b[0]/A[0, 0]\n",
    "    \n",
    "    for i in range (1, n, 1):\n",
    "        x[i] = (b[i] - np.dot(A[i][:i], x[:i]))/A[i,i]\n",
    "                \n",
    "    return x"
   ]
  },
  {
   "cell_type": "code",
   "execution_count": 3,
   "id": "9f3cd63c",
   "metadata": {},
   "outputs": [
    {
     "data": {
      "text/plain": [
       "array([ 2. ,  0.5, -1.1])"
      ]
     },
     "execution_count": 3,
     "metadata": {},
     "output_type": "execute_result"
    }
   ],
   "source": [
    "A = np.array([[1,0,0],[2,2,0],[3,1,5]])\n",
    "b = np.array([2,5,1])\n",
    "sust_progresiva(A,b)"
   ]
  },
  {
   "cell_type": "code",
   "execution_count": 4,
   "id": "5e0291c3",
   "metadata": {},
   "outputs": [
    {
     "data": {
      "text/plain": [
       "array([ 2. ,  0.5, -1.1])"
      ]
     },
     "execution_count": 4,
     "metadata": {},
     "output_type": "execute_result"
    }
   ],
   "source": [
    "np.linalg.solve(A, b)"
   ]
  },
  {
   "cell_type": "markdown",
   "id": "39e02ffe",
   "metadata": {},
   "source": [
    "  "
   ]
  },
  {
   "cell_type": "markdown",
   "id": "f673af43",
   "metadata": {},
   "source": [
    "## Ejercicio 2:"
   ]
  },
  {
   "cell_type": "markdown",
   "id": "f90e85eb",
   "metadata": {},
   "source": [
    "Modifica el código anterior para que resuelva SEL usando pivotaje parcial. Comprueba que el código funciona correctamente con las mismas matrices  𝐴  y  𝑏  del ejemplo anterior."
   ]
  },
  {
   "cell_type": "code",
   "execution_count": 11,
   "id": "44e296d8",
   "metadata": {},
   "outputs": [],
   "source": [
    "\"\"\"\n",
    "# Esta función resuelve el sistema Ax=b mediante sustitución regresiva. \n",
    "# PRE: A y b deben ser arrays de numpy. \n",
    "#      A debe ser una matriz triangular superior.\n",
    "\"\"\"\n",
    "def sust_regresiva(A,b):\n",
    "    \n",
    "    A=A.astype(float)     # cambiamos los elementos a tipo flotante\n",
    "    b=b.astype(float) \n",
    "    n=np.size(b)\n",
    "    x=np.zeros(n)         # almacenaremos aquí la solución del sistema\n",
    "                       \n",
    "    # ahora se resuelve el sistema por sustitución regresiva\n",
    "    x[n-1]=b[n-1]/A[n-1,n-1]\n",
    "    for i in range(n-2,-1,-1):     \n",
    "        x[i]=(b[i]-np.dot(A[i][i+1:],x[i+1:]))/A[i,i]\n",
    "                \n",
    "    return x"
   ]
  },
  {
   "cell_type": "code",
   "execution_count": 12,
   "id": "7bf39df5",
   "metadata": {},
   "outputs": [],
   "source": [
    "\"\"\"\n",
    "# Esta función resuelve el sistema Ax=b mediante el método de Gauss. \n",
    "# PRE: A y b deben ser arrays de numpy.\n",
    "\"\"\"\n",
    "def GaussPvtParcial (A, b):\n",
    "    A = A.astype(float)     # cambiamos los elementos a tipo flotante\n",
    "    bb = (np.array([b]).transpose()).astype(float) \n",
    "    \n",
    "    Ab = np.concatenate((A,bb),axis=1)  #Formamos la matriz ampliada\n",
    "    n = np.size(b)\n",
    "       \n",
    "    # Aquí se hacen operaciones por filas en la matriz para conseguir una triangular\n",
    "    for i in range(n-1):\n",
    "        \n",
    "        #Cálculo del pivote (pvt) parcial de la columna (por defecto se supone que ya se encuentra en la primera posicion)\n",
    "        pvt = i\n",
    "        for j in range (i+1, n):\n",
    "            #Nuevo pivote\n",
    "            if (Ab[j, i] > Ab[pvt, i]):\n",
    "                pvt = j\n",
    "        \n",
    "        #Intercambiamos filas si es necesario\n",
    "        if (pvt != i):                \n",
    "            temp = Ab[pvt].copy()\n",
    "            Ab[pvt] = Ab[i]\n",
    "            Ab[i] = temp\n",
    "\n",
    "        #Generamos ceros en la columna\n",
    "        for j in range(i+1, n):\n",
    "            m = Ab[j,i]/Ab[i,i]\n",
    "            Ab[j] = Ab[j] - (m * Ab[i])\n",
    "        \n",
    "    # ahora se resuelve el sistema por sustitución regresiva\n",
    "    AG=Ab[:,:n]\n",
    "    bG=Ab[:,n].transpose()\n",
    "    x=sust_regresiva(AG,bG)\n",
    "                \n",
    "    return x"
   ]
  },
  {
   "cell_type": "code",
   "execution_count": 17,
   "id": "4c395672",
   "metadata": {
    "scrolled": false
   },
   "outputs": [
    {
     "data": {
      "text/plain": [
       "array([ 2. ,  0.5, -1.1])"
      ]
     },
     "execution_count": 17,
     "metadata": {},
     "output_type": "execute_result"
    }
   ],
   "source": [
    "A = np.array([[1,0,0],[2,2,0],[3,1,5]])\n",
    "b = np.array([2,5,1])\n",
    "\n",
    "GaussPvtParcial(A,b)"
   ]
  },
  {
   "cell_type": "code",
   "execution_count": 18,
   "id": "8a94bc09",
   "metadata": {},
   "outputs": [
    {
     "data": {
      "text/plain": [
       "array([ 2. ,  0.5, -1.1])"
      ]
     },
     "execution_count": 18,
     "metadata": {},
     "output_type": "execute_result"
    }
   ],
   "source": [
    "np.linalg.solve(A, b)"
   ]
  },
  {
   "cell_type": "code",
   "execution_count": null,
   "id": "275d8d99",
   "metadata": {},
   "outputs": [],
   "source": []
  }
 ],
 "metadata": {
  "kernelspec": {
   "display_name": "Python 3 (ipykernel)",
   "language": "python",
   "name": "python3"
  },
  "language_info": {
   "codemirror_mode": {
    "name": "ipython",
    "version": 3
   },
   "file_extension": ".py",
   "mimetype": "text/x-python",
   "name": "python",
   "nbconvert_exporter": "python",
   "pygments_lexer": "ipython3",
   "version": "3.9.7"
  }
 },
 "nbformat": 4,
 "nbformat_minor": 5
}
