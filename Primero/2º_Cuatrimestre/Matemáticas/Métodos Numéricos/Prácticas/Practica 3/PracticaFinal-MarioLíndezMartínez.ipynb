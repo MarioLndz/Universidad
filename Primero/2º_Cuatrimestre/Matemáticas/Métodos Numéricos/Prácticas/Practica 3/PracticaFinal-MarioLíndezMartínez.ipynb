{
 "cells": [
  {
   "cell_type": "markdown",
   "id": "c9b54a5e",
   "metadata": {},
   "source": [
    "#### Hecho por: Mario Líndez Martínez"
   ]
  },
  {
   "cell_type": "markdown",
   "id": "252080fc",
   "metadata": {},
   "source": [
    "### Contenidos\n",
    "\n",
    "* [Práctica 0](#Pract-0)\n",
    "    * [Ejercicio_0.1](#Ej-0.1)\n",
    "    * [Ejercicio_0.2](#Ej-0.2)\n",
    "        \n",
    "* [Práctica_1](#Pract-1)\n",
    "    * [Ejercicio_1.1](#Ej-1.1)\n",
    "    * [Ejercicio_1.2](#Ej-1.2)\n",
    "        \n",
    "* [Práctica_2](#Pract-2)\n",
    "    * [Ejercicio_2.1](#Ej-2.1)\n",
    "    * [Ejercicio_2.2](#Ej-2.2)\n",
    "        \n",
    "* [Práctica_3](#Pract-3)\n",
    "    * [Ejercicio_3.1](#Ej-3.1)\n",
    "    * [Ejercicio_3.2](#Ej-3.2)\n",
    "    \n",
    "* [Ejercicio Final](#Ej-Final)"
   ]
  },
  {
   "cell_type": "markdown",
   "id": "aa001c6f",
   "metadata": {},
   "source": [
    "---"
   ]
  },
  {
   "cell_type": "markdown",
   "id": "dc333040",
   "metadata": {},
   "source": [
    "<h1>Práctica 0 <a class=\"anchor\" id=\"Pract-0\">"
   ]
  },
  {
   "cell_type": "markdown",
   "id": "12817e1b",
   "metadata": {},
   "source": [
    "<h4>Ejercicio 1: <a class=\"anchor\" id=\"Ej-0.1\">"
   ]
  },
  {
   "cell_type": "markdown",
   "id": "f93d092f",
   "metadata": {},
   "source": [
    "- Escribe un pequeño programa que calcule el máximo entre 4 números que debe introducir el usuario."
   ]
  },
  {
   "cell_type": "code",
   "execution_count": 2,
   "id": "68680ce4",
   "metadata": {},
   "outputs": [
    {
     "name": "stdout",
     "output_type": "stream",
     "text": [
      "Introduce 4 números: \n",
      "\n",
      "- Num 1: 5\n",
      "- Num 2: 87\n",
      "- Num 3: 2\n",
      "- Num 4: 1\n",
      "\n",
      "El máximo valor introducido es el:  87.0\n"
     ]
    }
   ],
   "source": [
    "print (\"Introduce 4 números: \\n\")\n",
    "\n",
    "#Lectura anticipada del primer valor, lo usaremos como primer valor maximo introducido\n",
    "num = float (input (\"- Num 1: \"))\n",
    "maximo = num\n",
    "\n",
    "for i in range(2, 5):\n",
    "    num = float (input (\"- Num %d: \" %i))\n",
    "    \n",
    "    #Nuevo maximo\n",
    "    if (maximo < num):\n",
    "        maximo = num\n",
    "\n",
    "print (\"\\nEl máximo valor introducido es el: \", maximo)"
   ]
  },
  {
   "cell_type": "markdown",
   "id": "728255c8",
   "metadata": {},
   "source": [
    "<h4>Ejercicio 2: <a class=\"anchor\" id=\"Ej-0.2\">"
   ]
  },
  {
   "cell_type": "markdown",
   "id": "65ab5b1e",
   "metadata": {},
   "source": [
    "- Crea un array de `Numpy` de 8 filas y 10 columnas de manera que el elemento $(i,j)$ sea  $3i+2j$ para $1\\le i\\le 8$ y $1\\le j\\le 10$. Ten en cuenta que las filas y columnas se numeran a partir de 1 pero en Python la numeración empieza en 0. El primer elemento de la matriz debe ser 5."
   ]
  },
  {
   "cell_type": "code",
   "execution_count": 3,
   "id": "bb8fb901",
   "metadata": {},
   "outputs": [],
   "source": [
    "import numpy as np              # aquí cargamos numpy con el pseudónimo np               \n",
    "import sympy as sp              # y sympy  como sp"
   ]
  },
  {
   "cell_type": "code",
   "execution_count": 4,
   "id": "013b5895",
   "metadata": {},
   "outputs": [
    {
     "name": "stdout",
     "output_type": "stream",
     "text": [
      "[[ 5  7  9 11 13 15 17 19 21 23]\n",
      " [ 8 10 12 14 16 18 20 22 24 26]\n",
      " [11 13 15 17 19 21 23 25 27 29]\n",
      " [14 16 18 20 22 24 26 28 30 32]\n",
      " [17 19 21 23 25 27 29 31 33 35]\n",
      " [20 22 24 26 28 30 32 34 36 38]\n",
      " [23 25 27 29 31 33 35 37 39 41]\n",
      " [26 28 30 32 34 36 38 40 42 44]]\n"
     ]
    }
   ],
   "source": [
    "mat = np.array([[((3*i)+(2*j)) for j in range(1,11)] for i in range(1,9)])\n",
    "print (mat)"
   ]
  },
  {
   "cell_type": "markdown",
   "id": "9154b88c",
   "metadata": {},
   "source": [
    "      "
   ]
  },
  {
   "cell_type": "markdown",
   "id": "6db39a0a",
   "metadata": {},
   "source": [
    "- Crea ahora un array $B$ de números aleatorios entre 0 y 1 de tamaño $4\\times 4$. Calcula $B^{10}$."
   ]
  },
  {
   "cell_type": "code",
   "execution_count": 5,
   "id": "9c128744",
   "metadata": {},
   "outputs": [
    {
     "name": "stdout",
     "output_type": "stream",
     "text": [
      "[[0.65906946 0.56450495 0.05000127 0.31837377]\n",
      " [0.40306132 0.92986636 0.62907554 0.86767932]\n",
      " [0.71840582 0.46730239 0.85508803 0.01568134]\n",
      " [0.58758561 0.77295433 0.5633022  0.08419974]]\n"
     ]
    }
   ],
   "source": [
    "#Creamos el array de números aleatorios\n",
    "b = np.random.rand(4,4)\n",
    "print (b)"
   ]
  },
  {
   "cell_type": "code",
   "execution_count": 6,
   "id": "cf54e02a",
   "metadata": {},
   "outputs": [
    {
     "name": "stdout",
     "output_type": "stream",
     "text": [
      "[[ 452.93950894  543.79987521  404.63362665  298.16947298]\n",
      " [ 834.80012536 1002.26291408  745.77051186  549.54790478]\n",
      " [ 550.45882422  660.88111343  491.75335743  362.36561989]\n",
      " [ 585.17224313  702.55878999  522.76462735  385.2180086 ]]\n"
     ]
    }
   ],
   "source": [
    "#Potencia de 10 de la matriz\n",
    "a = np.linalg.matrix_power(b, 10)\n",
    "print (a)"
   ]
  },
  {
   "cell_type": "markdown",
   "id": "39dc61fa",
   "metadata": {},
   "source": [
    "---"
   ]
  },
  {
   "cell_type": "markdown",
   "id": "e95ba966",
   "metadata": {},
   "source": [
    "<h1>Práctica 1 <a class=\"anchor\" id=\"Pract-1\">"
   ]
  },
  {
   "cell_type": "markdown",
   "id": "c66fbf82",
   "metadata": {},
   "source": [
    "<h4>Ejercicio 1: <a class=\"anchor\" id=\"Ej-1.1\">"
   ]
  },
  {
   "cell_type": "markdown",
   "id": "c121484d",
   "metadata": {},
   "source": [
    "- Escribe una función que resuelva por sustitución progresiva un sistema en el que la matriz de coeficientes es triangular inferior. Comprueba que se obtiene el mismo resultado utilizando dicha función que mediante la función `solve` de `NumPy` si lo aplicamos a las matrices \n",
    "$$A=\\left(\\begin{array}{rrr}\n",
    "1 & 0 & 0 \\\\\n",
    "2 & 2 & 0 \\\\\n",
    "3 & 1 & 5 \\end{array} \\right) \\qquad b=\\left(2,5,1 \\right) $$."
   ]
  },
  {
   "cell_type": "code",
   "execution_count": 7,
   "id": "f821795c",
   "metadata": {},
   "outputs": [],
   "source": [
    "import numpy as np"
   ]
  },
  {
   "cell_type": "code",
   "execution_count": 8,
   "id": "6875bad5",
   "metadata": {},
   "outputs": [],
   "source": [
    "\"\"\"\n",
    "# Esta función resolverá un sistema Ax=b mediante sustitución progresiva\n",
    "# PRE: A y b deben ser arrays de numpy\n",
    "#      A debe ser una matriz triangular inferior\n",
    "\"\"\"\n",
    "def sust_progresiva(A, b):\n",
    "    A = A.astype(float)     #Cambiamos los elementos a tipo flotante\n",
    "    b = b.astype(float) \n",
    "    \n",
    "    n = np.size(b)\n",
    "    \n",
    "    x = np.zeros(n)         #Almacenaremos aquí la solución del sistema\n",
    "                       \n",
    "    # Resolvemos el sistema por sustitución progresiva\n",
    "    x[0] = b[0]/A[0, 0]\n",
    "    \n",
    "    for i in range (1, n, 1):\n",
    "        x[i] = (b[i] - np.dot(A[i][:i], x[:i]))/A[i,i]\n",
    "                \n",
    "    return x"
   ]
  },
  {
   "cell_type": "code",
   "execution_count": 9,
   "id": "184fbe6e",
   "metadata": {},
   "outputs": [
    {
     "name": "stdout",
     "output_type": "stream",
     "text": [
      "[ 2.   0.5 -1.1]\n"
     ]
    }
   ],
   "source": [
    "\"\"\"   MAIN   \"\"\"\n",
    "A = np.array([[1,0,0],[2,2,0],[3,1,5]])\n",
    "b = np.array([2,5,1])\n",
    "\n",
    "print (sust_progresiva(A,b))"
   ]
  },
  {
   "cell_type": "code",
   "execution_count": 10,
   "id": "2d4843f5",
   "metadata": {},
   "outputs": [
    {
     "name": "stdout",
     "output_type": "stream",
     "text": [
      "[ 2.   0.5 -1.1]\n"
     ]
    }
   ],
   "source": [
    "#Comprobamos que nuestra función funciona correctamente\n",
    "print (np.linalg.solve(A, b))"
   ]
  },
  {
   "cell_type": "markdown",
   "id": "bd241cbb",
   "metadata": {},
   "source": [
    "   "
   ]
  },
  {
   "cell_type": "markdown",
   "id": "5be2f271",
   "metadata": {},
   "source": [
    "<h4>Ejercicio 2: <a class=\"anchor\" id=\"Ej-1.2\">"
   ]
  },
  {
   "cell_type": "markdown",
   "id": "e66b011e",
   "metadata": {},
   "source": [
    "Modifica el código anterior para que resuelva SEL usando pivotaje parcial. Comprueba que el código funciona correctamente con las mismas matrices $A$ y $b$ del ejemplo anterior."
   ]
  },
  {
   "cell_type": "code",
   "execution_count": 11,
   "id": "c628b80e",
   "metadata": {},
   "outputs": [],
   "source": [
    "\"\"\"\n",
    "# Esta función resuelve el sistema Ax=b mediante sustitución regresiva. \n",
    "# PRE: A y b deben ser arrays de numpy. \n",
    "#      A debe ser una matriz triangular superior.\n",
    "\"\"\"\n",
    "def sust_regresiva(A,b):\n",
    "    \n",
    "    A=A.astype(float)     # cambiamos los elementos a tipo flotante\n",
    "    b=b.astype(float) \n",
    "    n=np.size(b)\n",
    "    x=np.zeros(n)         # almacenaremos aquí la solución del sistema\n",
    "                       \n",
    "    # ahora se resuelve el sistema por sustitución regresiva\n",
    "    x[n-1]=b[n-1]/A[n-1,n-1]\n",
    "    for i in range(n-2,-1,-1):     \n",
    "        x[i]=(b[i]-np.dot(A[i][i+1:],x[i+1:]))/A[i,i]\n",
    "                \n",
    "    return x"
   ]
  },
  {
   "cell_type": "code",
   "execution_count": 12,
   "id": "e71e8042",
   "metadata": {},
   "outputs": [],
   "source": [
    "\"\"\"\n",
    "# Esta función resuelve el sistema Ax=b mediante el método de Gauss. \n",
    "# PRE: A y b deben ser arrays de numpy.\n",
    "\"\"\"\n",
    "def GaussPvtParcial (A, b):\n",
    "    A = A.astype(float)     # cambiamos los elementos a tipo flotante\n",
    "    bb = (np.array([b]).transpose()).astype(float) \n",
    "    \n",
    "    Ab = np.concatenate((A,bb),axis=1)  #Formamos la matriz ampliada\n",
    "    n = np.size(b)\n",
    "       \n",
    "    # Aquí se hacen operaciones por filas en la matriz para conseguir una triangular\n",
    "    for i in range(n-1):\n",
    "        \n",
    "        #Cálculo del pivote (pvt) parcial de la columna (por defecto se supone que ya se encuentra en la primera posicion)\n",
    "        pvt = i\n",
    "        for j in range (i+1, n):\n",
    "            #Nuevo pivote\n",
    "            if (Ab[j, i] > Ab[pvt, i]):\n",
    "                pvt = j\n",
    "        \n",
    "        #Intercambiamos filas si es necesario\n",
    "        if (pvt != i):                \n",
    "            temp = Ab[pvt].copy()\n",
    "            Ab[pvt] = Ab[i]\n",
    "            Ab[i] = temp\n",
    "\n",
    "        #Generamos ceros en la columna\n",
    "        for j in range(i+1, n):\n",
    "            m = Ab[j,i]/Ab[i,i]\n",
    "            Ab[j] = Ab[j] - (m * Ab[i])\n",
    "        \n",
    "    # ahora se resuelve el sistema por sustitución regresiva\n",
    "    AG=Ab[:,:n]\n",
    "    bG=Ab[:,n].transpose()\n",
    "    x=sust_regresiva(AG,bG)\n",
    "                \n",
    "    return x"
   ]
  },
  {
   "cell_type": "code",
   "execution_count": 13,
   "id": "2b284700",
   "metadata": {},
   "outputs": [
    {
     "name": "stdout",
     "output_type": "stream",
     "text": [
      "[-2.86666667  2.4        -1.86666667]\n"
     ]
    }
   ],
   "source": [
    "\"\"\"   MAIN   \"\"\"\n",
    "A = np.array([[2,4,1],[1,3,5],[-1,0,1]])\n",
    "b = np.array([2,-5,1])\n",
    "\n",
    "print (GaussPvtParcial(A,b))"
   ]
  },
  {
   "cell_type": "code",
   "execution_count": 14,
   "id": "d6fe8594",
   "metadata": {},
   "outputs": [
    {
     "name": "stdout",
     "output_type": "stream",
     "text": [
      "[-2.86666667  2.4        -1.86666667]\n"
     ]
    }
   ],
   "source": [
    "#Comprobamos que nuestra función funciona correctamente\n",
    "print(np.linalg.solve(A, b))"
   ]
  },
  {
   "cell_type": "markdown",
   "id": "446e9198",
   "metadata": {},
   "source": [
    "---"
   ]
  },
  {
   "cell_type": "markdown",
   "id": "2cab64a9",
   "metadata": {},
   "source": [
    "<h1>Práctica 2 <a class=\"anchor\" id=\"Pract-2\">"
   ]
  },
  {
   "cell_type": "markdown",
   "id": "4c97a87e",
   "metadata": {},
   "source": [
    "<h4>Ejercicio 1: <a class=\"anchor\" id=\"Ej-2.1\">"
   ]
  },
  {
   "cell_type": "markdown",
   "id": "d564f5d0",
   "metadata": {},
   "source": [
    "- Utilizando la descomposición LU de esta práctica y las sustituciones progresiva y regresiva de la práctica anterior, resuelve el sistema $A x=b$ donde\n",
    "$$A=\\left(\\begin{array}{rrr}\n",
    "1 & 4 & 1 \\\\\n",
    "1 & 3 & 5 \\\\\n",
    "-2 & 0 & 1 \\end{array} \\right) \\qquad b=\\left(2,-5,1 \\right) $$ "
   ]
  },
  {
   "cell_type": "code",
   "execution_count": null,
   "id": "0275465b",
   "metadata": {},
   "outputs": [],
   "source": [
    "import numpy as np\n",
    "from scipy.linalg import lu, lu_solve, lu_factor"
   ]
  },
  {
   "cell_type": "code",
   "execution_count": null,
   "id": "3e926560",
   "metadata": {},
   "outputs": [],
   "source": [
    "\"\"\"\n",
    "# Esta función resolverá un sistema Ax=b mediante sustitución progresiva\n",
    "# PRE: A y b deben ser arrays de numpy\n",
    "#      A debe ser una matriz triangular inferior\n",
    "\"\"\"\n",
    "def sust_progresiva(A, b):\n",
    "    A = A.astype(float)     #Cambiamos los elementos a tipo flotante\n",
    "    b = b.astype(float) \n",
    "    \n",
    "    n = np.size(b)\n",
    "    \n",
    "    x = np.zeros(n)         #Almacenaremos aquí la solución del sistema\n",
    "                       \n",
    "    # Resolvemos el sistema por sustitución progresiva\n",
    "    x[0] = b[0]/A[0, 0]\n",
    "    \n",
    "    for i in range (1, n, 1):\n",
    "        x[i] = (b[i] - np.dot(A[i][:i], x[:i]))/A[i,i]\n",
    "                \n",
    "    return x"
   ]
  },
  {
   "cell_type": "code",
   "execution_count": null,
   "id": "a5905d16",
   "metadata": {},
   "outputs": [],
   "source": [
    "\"\"\"\n",
    "Esta función resuelve el sistema Ax=b mediante sustitución regresiva. \n",
    "PRE: A y b deben ser arrays de numpy. \n",
    "     A debe ser una matriz triangular superior.\n",
    "\"\"\"\n",
    "def sust_regresiva(A,b):\n",
    "    \n",
    "    A=A.astype(float)     # cambiamos los elementos a tipo flotante\n",
    "    b=b.astype(float) \n",
    "    n=np.size(b)\n",
    "    x=np.zeros(n)         # almacenaremos aquí la solución del sistema\n",
    "                       \n",
    "    # ahora se resuelve el sistema por sustitución regresiva\n",
    "    x[n-1]=b[n-1]/A[n-1,n-1]\n",
    "    for i in range(n-2,-1,-1):     \n",
    "        x[i]=(b[i]-np.dot(A[i][i+1:],x[i+1:]))/A[i,i]\n",
    "                \n",
    "    return x"
   ]
  },
  {
   "cell_type": "code",
   "execution_count": null,
   "id": "44e7bcf6",
   "metadata": {},
   "outputs": [],
   "source": [
    "\"\"\"\n",
    "Esta función calcula la descomposición LU de Doolittle de una matriz A sin intercambio de filas.\n",
    "A debe ser un array de Numpy.\n",
    "\"\"\"\n",
    "def LU_desc(A):\n",
    "    n=np.shape(A)[1]\n",
    "    U=np.zeros([n,n])\n",
    "    L=np.eye(n)\n",
    "    \n",
    "    for k in range(n-1):\n",
    "        U[k,k]=A[k,k]-np.dot(L[k,:k],U[:k,k])\n",
    "        for j in range(k+1,n):\n",
    "            U[k,j]=A[k,j]-np.dot(L[k,:k],U[:k,j])\n",
    "        for j in range(k+1):\n",
    "            L[k+1,j]=(A[k+1,j]-np.dot(L[k+1,:j],U[:j,j]))/U[j,j]\n",
    "    U[n-1,n-1]=A[n-1,n-1]-np.dot(L[n-1,:n-1],U[:n-1,n-1])\n",
    "    return L, U"
   ]
  },
  {
   "cell_type": "code",
   "execution_count": null,
   "id": "89cd9d01",
   "metadata": {},
   "outputs": [],
   "source": [
    "\"\"\"\n",
    "Esta función resuelve un sistema de ecuaciones Ax = b usando la descomposición LU de Doolitle sin intercambio de filas\n",
    "PRE: A y b deben ser arrays de numpy\n",
    "\"\"\"\n",
    "def ResolverPorLUDoolitle(A, b):\n",
    "    L, U = LU_desc(A)\n",
    "    \n",
    "    y = sust_progresiva(L, b)\n",
    "    \n",
    "    x = sust_regresiva(U, y)\n",
    "    \n",
    "    return (x)"
   ]
  },
  {
   "cell_type": "code",
   "execution_count": null,
   "id": "b6129c6c",
   "metadata": {},
   "outputs": [],
   "source": [
    "\"\"\"   MAIN   \"\"\"\n",
    "A = np.array([[1, 4, 1], [1, 3, 5], [-2, 0, 1]])\n",
    "b = np.array([2, -5, 1])\n",
    "\n",
    "x = ResolverPorLUDoolitle(A, b)\n",
    "print (x)\n"
   ]
  },
  {
   "cell_type": "code",
   "execution_count": null,
   "id": "866e893a",
   "metadata": {},
   "outputs": [],
   "source": [
    "#Comprobamos que nuestra función funciona correctamente\n",
    "print (lu_solve(lu_factor(A),b))"
   ]
  },
  {
   "cell_type": "markdown",
   "id": "f13bc7b4",
   "metadata": {},
   "source": [
    "   "
   ]
  },
  {
   "cell_type": "markdown",
   "id": "f20d14a5",
   "metadata": {},
   "source": [
    "<h4>Ejercicio 2: <a class=\"anchor\" id=\"Ej-2.2\">"
   ]
  },
  {
   "cell_type": "markdown",
   "id": "7782dda6",
   "metadata": {},
   "source": [
    "- Define una función que resuelva un sistema de ecuaciones lineales mediante la factorización de Cholesky. Comprueba su funcionamiento para intentar resolver el sistema $A x=b$ donde $b=\\left(2,-5,1 \\right)$ en los casos de los ejemplos anteriores:\n",
    "$$A=\\left(\\begin{array}{rrr}\n",
    "2 & 4 & 1 \\\\\n",
    "4 & 10 & 1 \\\\\n",
    "1 & 1 & 5 \\end{array} \\right) \\qquad \n",
    "A=\\left(\\begin{array}{rrr}\n",
    "2 & 4 & 1 \\\\\n",
    "4 & 0 & 1 \\\\\n",
    "1 & 1 & 5 \\end{array} \\right)$$ \n",
    "\n",
    "**No** se permite utilizar la función `linalg.cholesky`de `NumPy`"
   ]
  },
  {
   "cell_type": "code",
   "execution_count": null,
   "id": "c8435200",
   "metadata": {},
   "outputs": [],
   "source": [
    "\"\"\"\n",
    "Esta función descompone una matriz simétrica usando la factorización de Cholesky\n",
    "Devolverá solo el valor de L\n",
    "\"\"\"\n",
    "def Cholesky(A):\n",
    "    n = np.shape(A)[1]\n",
    "    L = np.zeros([n,n])\n",
    "    \n",
    "    for i in range (0, n):\n",
    "        L[i,i] = np.sqrt(A[i,i] - np.dot(L[i, :i], L[i, :i]))\n",
    "        \n",
    "        for j in range (i+1, n):\n",
    "            L[j, i] = (A[j, i] - np.dot(L[j, :i], L[i, :i]))/L[i,i]\n",
    "    \n",
    "    \n",
    "    return (L)"
   ]
  },
  {
   "cell_type": "code",
   "execution_count": null,
   "id": "73732f3e",
   "metadata": {},
   "outputs": [],
   "source": [
    "\"\"\"\n",
    "Esta función resolverá un sistema de ecuaciones usando la factorización de Cholesky\n",
    "\n",
    "\"\"\"\n",
    "def ResolverPorCholesky(A,b):\n",
    "    L = Cholesky(A)\n",
    "    Lt = np.transpose(L)\n",
    "    \n",
    "    # Ax = b --> LUx = b --> L(Ux) = b\n",
    "    # Ux = y ; Ly = b\")\n",
    "    # Donde U = l transpuesta\n",
    "    \n",
    "    y = sust_progresiva(L,b)\n",
    "    \n",
    "    x = sust_regresiva(Lt,y)\n",
    "    \n",
    "    return (x)"
   ]
  },
  {
   "cell_type": "code",
   "execution_count": null,
   "id": "3ee15677",
   "metadata": {},
   "outputs": [],
   "source": [
    "\"\"\"\n",
    "MAIN\n",
    "\"\"\"\n",
    "print (\"Caso 1:\")\n",
    "A = np.array([[2, 4, 1], [4, 10, 1], [1, 1, 5]])\n",
    "b = np.array([2, -5, 1])\n",
    "\n",
    "x = ResolverPorCholesky(A,b)\n",
    "print (\"x = \\n\", x)\n",
    "\n",
    "print (\"\\nCaso 2:\")\n",
    "A = np.array([[2, 4, 1], [4, 0, 1], [1, 1, 5]])\n",
    "\n",
    "x = ResolverPorCholesky(A,b)\n",
    "\n",
    "print (\"x = \\n\", x)"
   ]
  },
  {
   "cell_type": "markdown",
   "id": "39e01e67",
   "metadata": {},
   "source": [
    "---"
   ]
  },
  {
   "cell_type": "markdown",
   "id": "7e42aac8",
   "metadata": {},
   "source": [
    "<h1>Práctica 3 <a class=\"anchor\" id=\"Pract-3\">"
   ]
  },
  {
   "cell_type": "markdown",
   "id": "f9af9ecd",
   "metadata": {},
   "source": [
    "<h4>Ejercicio 1 <a class=\"anchor\" id=\"Ej-3.1\">"
   ]
  },
  {
   "cell_type": "markdown",
   "id": "c04fb44f",
   "metadata": {},
   "source": [
    "Modifica el código anterior para resolver de forma aproximada un sistema de ecuaciones lineales utilizando el método de **Gauss-Seidel**. Comprueba el funcionamiento del programa con el sistema $A x=b$ donde\n",
    "$$A=\\left(\\begin{array}{rrr}\n",
    "10 & 4 & 1 \\\\\n",
    "4 & 10 & 1 \\\\\n",
    "1 & 1 & 5 \\end{array} \\right) \\qquad b=\\left(15,15,7 \\right) $$ "
   ]
  },
  {
   "cell_type": "code",
   "execution_count": 1,
   "id": "c75fddb5",
   "metadata": {},
   "outputs": [],
   "source": [
    "import numpy as np"
   ]
  },
  {
   "cell_type": "code",
   "execution_count": 2,
   "id": "60c5b931",
   "metadata": {},
   "outputs": [],
   "source": [
    "\"\"\"\n",
    "Esta función resuelve el sistema Ax=b de forma aproximada mediante el método iterativo de Gauss-Seidel \n",
    "empezando las iteraciones en el vector nulo.\n",
    "PRE: Las matrices A y b deben ser arrays de NumPy.\n",
    "     El número máximo de iteraciones se puede introducir por el usuario y es 1000 por defecto.\n",
    "     La tolerancia también se puede introducir por el usuario y es 10^(-10) por defecto.\n",
    "     El método se interrumpe cuando se alcanza el número máximo de iteraciones o cuando la tolerancia es \n",
    "     menor que la indicada.\n",
    "    \n",
    "\"\"\"\n",
    "def GaussSeidel(A, b, maxiter=1000, tol=10**(-10)):\n",
    "    n = np.shape(A)[1] # se calcula la dimensión de A\n",
    "    d = np.diag(A)     # obtenemos un array con los elementos de la diagonal de la matriz A\n",
    "    D = np.diag(d)     # creamos un array diagonal con los elementos de d\n",
    "    R = A-D            # matriz con los elementos que no están en la diagonal\n",
    "    x = np.zeros(n)\n",
    "    y = np.zeros(n)\n",
    "    \n",
    "    if np.prod(d)==0:\n",
    "        print('Hay elementos nulos en la diagonal de la matriz')\n",
    "    else:\n",
    "        k = 1\n",
    "        er = 1\n",
    "        nx = 1\n",
    "        while (er > tol*nx and k < maxiter):\n",
    "            nx = np.linalg.norm(x, 1)\n",
    "            for i in range(n):\n",
    "                y[i] = (b[i] - np.dot(A[i, :i], y[:i]) - np.dot(A[i, (i+1):], x[(i+1):])) / A[i, i]\n",
    "            er = np.linalg.norm(y-x,1) # calculamos la norma de la diferencia entre y y el resultado de la iteración anterior        \n",
    "            x = np.copy(y)\n",
    "            #print('Iteración k=', k, '  x^(k)= ', x ) # descomentar si se quieren ver las iteraciones.\n",
    "            k += 1\n",
    "        return x"
   ]
  },
  {
   "cell_type": "code",
   "execution_count": 3,
   "id": "b5acfd6b",
   "metadata": {
    "scrolled": true
   },
   "outputs": [
    {
     "name": "stdout",
     "output_type": "stream",
     "text": [
      "[1. 1. 1.]\n"
     ]
    }
   ],
   "source": [
    "A = np.array([[10, 4, 1], [4, 10, 1], [1, 1, 5]])\n",
    "b = np.array([15, 15, 7])\n",
    "\n",
    "x = GaussSeidel(A, b)\n",
    "\n",
    "print (x)"
   ]
  },
  {
   "cell_type": "markdown",
   "id": "44e195b8",
   "metadata": {},
   "source": [
    "  "
   ]
  },
  {
   "cell_type": "markdown",
   "id": "927e02ba",
   "metadata": {},
   "source": [
    "<h4> Ejercicio 2 <a class=\"anchor\" id=\"Ej-3.2\">"
   ]
  },
  {
   "cell_type": "markdown",
   "id": "37aeae9b",
   "metadata": {},
   "source": [
    "Una vez programado Gauss-Seidel, haz las modificaciones oportunas para definir una función que resuelva un sistema utilizando un método de relajación con la constante $\\omega$ introducida por el usuario."
   ]
  },
  {
   "cell_type": "code",
   "execution_count": 4,
   "id": "6747adf5",
   "metadata": {},
   "outputs": [],
   "source": [
    "\"\"\"\n",
    "Esta función resuelve el sistema Ax=b de forma aproximada mediante el método iterativo de Gauss-Seidel \n",
    "empezando las iteraciones en el vector nulo.\n",
    "PRE: - Las matrices A y b deben ser arrays de NumPy.\n",
    "     - El número máximo de iteraciones se puede introducir por el usuario y es 1000 por defecto.\n",
    "     - La tolerancia también se puede introducir por el usuario y es 10^(-10) por defecto.\n",
    "     - El método se interrumpe cuando se alcanza el número máximo de iteraciones o cuando la tolerancia es \n",
    "       menor que la indicada.\n",
    "     - El valor de la constante w debe ser 0 < w < 2 para que el método funcione\n",
    "    \n",
    "\"\"\"\n",
    "def Relajacion(A, b, w, maxiter=1000, tol=10**(-10)):\n",
    "    n = np.shape(A)[1] # se calcula la dimensión de A\n",
    "    d = np.diag(A)     # obtenemos un array con los elementos de la diagonal de la matriz A\n",
    "    D = np.diag(d)     # creamos un array diagonal con los elementos de d\n",
    "    R = A-D            # matriz con los elementos que no están en la diagonal\n",
    "    x = np.zeros(n)\n",
    "    y = np.zeros(n)\n",
    "    \n",
    "    if ((0 < w) and (w < 2)):\n",
    "        if np.prod(d)==0:\n",
    "            print('Hay elementos nulos en la diagonal de la matriz')\n",
    "        else:\n",
    "            k = 1\n",
    "            er = 1\n",
    "            nx = 1\n",
    "            while (er > tol*nx and k < maxiter):\n",
    "                nx = np.linalg.norm(x, 1)\n",
    "                for i in range(n):\n",
    "                    y[i] = ((w * (b[i] - np.dot(A[i, :i], y[:i]) - np.dot(A[i, (i+1):], x[(i+1):]))) / A[i, i]) + ((1 - w)*x[i])\n",
    "                er = np.linalg.norm(y-x,1)  # calculamos la norma de la diferencia entre y y el resultado de la iteración anterior        \n",
    "                x = np.copy(y)\n",
    "                #print('Iteración k=', k, '  x^(k)= ', x ) # descomentar si se quieren ver las iteraciones.\n",
    "                k += 1\n",
    "        \n",
    "    else:\n",
    "        print (\"Error: El método de relajación solo puede ser convergente si 0 < w < 2\")\n",
    "    return x\n",
    "    "
   ]
  },
  {
   "cell_type": "code",
   "execution_count": 5,
   "id": "6eeb5768",
   "metadata": {},
   "outputs": [
    {
     "name": "stdout",
     "output_type": "stream",
     "text": [
      "[1. 1. 1.]\n"
     ]
    }
   ],
   "source": [
    "A = np.array([[10, 4, 1], [4, 10, 1], [1, 1, 5]])\n",
    "b = np.array([15, 15, 7])\n",
    "\n",
    "x = Relajacion(A, b, 1.5)\n",
    "\n",
    "print (x)"
   ]
  },
  {
   "cell_type": "markdown",
   "id": "59ddad4a",
   "metadata": {},
   "source": [
    "--- "
   ]
  },
  {
   "cell_type": "markdown",
   "id": "8425d648",
   "metadata": {},
   "source": [
    "<h1> Ejercicio final <a class=\"anchor\" id=\"Ej-Final\">"
   ]
  },
  {
   "cell_type": "markdown",
   "id": "a6d3b457",
   "metadata": {},
   "source": [
    "Define una matriz A cuadrada de orden 20 cuyo elemento $a_{ij}=1/(i+j)$ siempre que $i\\ne j$ y $a_{ii}=20 *i^2$. Define también un vector b cuyas componentes sean todas iguales a 20. Resuelve ahora el sistema $A x=b$ con **todos los métodos** que hemos visto. Comenta los resultados."
   ]
  },
  {
   "cell_type": "code",
   "execution_count": null,
   "id": "feb4a0f8",
   "metadata": {},
   "outputs": [],
   "source": [
    "#========================= Sustituciones ========================="
   ]
  },
  {
   "cell_type": "code",
   "execution_count": null,
   "id": "a4f4e0a6",
   "metadata": {},
   "outputs": [],
   "source": [
    "\"\"\"\n",
    "# Esta función resolverá un sistema Ax=b mediante sustitución progresiva\n",
    "# PRE: A y b deben ser arrays de numpy\n",
    "#      A debe ser una matriz triangular inferior\n",
    "\"\"\"\n",
    "def sust_progresiva(A, b):\n",
    "    A = A.astype(float)     #Cambiamos los elementos a tipo flotante\n",
    "    b = b.astype(float) \n",
    "    \n",
    "    n = np.size(b)\n",
    "    \n",
    "    x = np.zeros(n)         #Almacenaremos aquí la solución del sistema\n",
    "                       \n",
    "    # Resolvemos el sistema por sustitución progresiva\n",
    "    x[0] = b[0]/A[0, 0]\n",
    "    \n",
    "    for i in range (1, n, 1):\n",
    "        x[i] = (b[i] - np.dot(A[i][:i], x[:i]))/A[i,i]\n",
    "                \n",
    "    return x\n",
    "\n",
    "\"\"\"\n",
    "# Esta función resuelve el sistema Ax=b mediante sustitución regresiva. \n",
    "# PRE: A y b deben ser arrays de numpy. \n",
    "#      A debe ser una matriz triangular superior.\n",
    "\"\"\"\n",
    "def sust_regresiva(A,b):\n",
    "    \n",
    "    A=A.astype(float)     # cambiamos los elementos a tipo flotante\n",
    "    b=b.astype(float) \n",
    "    n=np.size(b)\n",
    "    x=np.zeros(n)         # almacenaremos aquí la solución del sistema\n",
    "                       \n",
    "    # ahora se resuelve el sistema por sustitución regresiva\n",
    "    x[n-1]=b[n-1]/A[n-1,n-1]\n",
    "    for i in range(n-2,-1,-1):     \n",
    "        x[i]=(b[i]-np.dot(A[i][i+1:],x[i+1:]))/A[i,i]\n",
    "                \n",
    "    return x"
   ]
  },
  {
   "cell_type": "markdown",
   "id": "5b385d0e",
   "metadata": {},
   "source": [
    "   "
   ]
  },
  {
   "cell_type": "code",
   "execution_count": null,
   "id": "23a72ab9",
   "metadata": {},
   "outputs": [],
   "source": [
    "#========================= Métodos de Gauss (Pivotaje Parcial) ========================="
   ]
  },
  {
   "cell_type": "code",
   "execution_count": null,
   "id": "bd2aa124",
   "metadata": {},
   "outputs": [],
   "source": [
    "\"\"\"\n",
    "# Esta función resuelve el sistema Ax=b mediante el método de Gauss. \n",
    "# PRE: A y b deben ser arrays de numpy.\n",
    "\"\"\"\n",
    "def GaussPvtParcial (A, b):\n",
    "    A = A.astype(float)     # cambiamos los elementos a tipo flotante\n",
    "    bb = (np.array([b]).transpose()).astype(float) \n",
    "    \n",
    "    Ab = np.concatenate((A,bb),axis=1)  #Formamos la matriz ampliada\n",
    "    n = np.size(b)\n",
    "       \n",
    "    # Aquí se hacen operaciones por filas en la matriz para conseguir una triangular\n",
    "    for i in range(n-1):\n",
    "        \n",
    "        #Cálculo del pivote (pvt) parcial de la columna (por defecto se supone que ya se encuentra en la primera posicion)\n",
    "        pvt = i\n",
    "        for j in range (i+1, n):\n",
    "            #Nuevo pivote\n",
    "            if (Ab[j, i] > Ab[pvt, i]):\n",
    "                pvt = j\n",
    "        \n",
    "        #Intercambiamos filas si es necesario\n",
    "        if (pvt != i):                \n",
    "            temp = Ab[pvt].copy()\n",
    "            Ab[pvt] = Ab[i]\n",
    "            Ab[i] = temp\n",
    "\n",
    "        #Generamos ceros en la columna\n",
    "        for j in range(i+1, n):\n",
    "            m = Ab[j,i]/Ab[i,i]\n",
    "            Ab[j] = Ab[j] - (m * Ab[i])\n",
    "        \n",
    "    # ahora se resuelve el sistema por sustitución regresiva\n",
    "    AG=Ab[:,:n]\n",
    "    bG=Ab[:,n].transpose()\n",
    "    x=sust_regresiva(AG,bG)\n",
    "                \n",
    "    return x"
   ]
  },
  {
   "cell_type": "code",
   "execution_count": null,
   "id": "0713bf3e",
   "metadata": {},
   "outputs": [],
   "source": [
    "#========================= Métodos de descomposición ========================="
   ]
  },
  {
   "cell_type": "code",
   "execution_count": null,
   "id": "106ae955",
   "metadata": {},
   "outputs": [],
   "source": [
    "# ----- Descomposición de Doolitle"
   ]
  },
  {
   "cell_type": "code",
   "execution_count": null,
   "id": "3d35ae6d",
   "metadata": {},
   "outputs": [],
   "source": [
    "\"\"\"\n",
    "Esta función calcula la descomposición LU de Doolittle de una matriz A sin intercambio de filas.\n",
    "A debe ser un array de Numpy.\n",
    "\"\"\"\n",
    "def LU_desc(A):\n",
    "    n=np.shape(A)[1]\n",
    "    U=np.zeros([n,n])\n",
    "    L=np.eye(n)\n",
    "    \n",
    "    for k in range(n-1):\n",
    "        U[k,k]=A[k,k]-np.dot(L[k,:k],U[:k,k])\n",
    "        for j in range(k+1,n):\n",
    "            U[k,j]=A[k,j]-np.dot(L[k,:k],U[:k,j])\n",
    "        for j in range(k+1):\n",
    "            L[k+1,j]=(A[k+1,j]-np.dot(L[k+1,:j],U[:j,j]))/U[j,j]\n",
    "    U[n-1,n-1]=A[n-1,n-1]-np.dot(L[n-1,:n-1],U[:n-1,n-1])\n",
    "    return L, U"
   ]
  },
  {
   "cell_type": "code",
   "execution_count": null,
   "id": "aff9928a",
   "metadata": {},
   "outputs": [],
   "source": [
    "\"\"\"\n",
    "Esta función resuelve un sistema de ecuaciones Ax = b usando la descomposición LU de Doolitle sin intercambio de filas\n",
    "PRE: A y b deben ser arrays de numpy\n",
    "\"\"\"\n",
    "def ResolverPorLUDoolitle(A, b):\n",
    "    L, U = LU_desc(A)\n",
    "    \n",
    "    y = sust_progresiva(L, b)\n",
    "    \n",
    "    x = sust_regresiva(U, y)\n",
    "    \n",
    "    return (x)"
   ]
  },
  {
   "cell_type": "markdown",
   "id": "4f5a0b87",
   "metadata": {},
   "source": [
    "   "
   ]
  },
  {
   "cell_type": "code",
   "execution_count": null,
   "id": "2652c2ba",
   "metadata": {},
   "outputs": [],
   "source": [
    "# ----- Descomposición de Cholesky"
   ]
  },
  {
   "cell_type": "code",
   "execution_count": null,
   "id": "9e1f299e",
   "metadata": {},
   "outputs": [],
   "source": [
    "\"\"\"\n",
    "Esta función descompone una matriz simétrica usando la factorización de Cholesky\n",
    "Devolverá solo el valor de L\n",
    "PRE: La matriz A debe ser un array de numpy\n",
    "\"\"\"\n",
    "def Cholesky(A):\n",
    "    n = np.shape(A)[1]\n",
    "    L = np.zeros([n,n])\n",
    "    \n",
    "    for i in range (0, n):\n",
    "        L[i,i] = np.sqrt(A[i,i] - np.dot(L[i, :i], L[i, :i]))\n",
    "        \n",
    "        for j in range (i+1, n):\n",
    "            L[j, i] = (A[j, i] - np.dot(L[j, :i], L[i, :i]))/L[i,i]\n",
    "    \n",
    "    \n",
    "    return (L)"
   ]
  },
  {
   "cell_type": "code",
   "execution_count": null,
   "id": "c3750f0a",
   "metadata": {},
   "outputs": [],
   "source": [
    "\"\"\"\n",
    "Esta función resolverá un sistema de ecuaciones Ax=b usando la factorización de Cholesky\n",
    "PRE: A y b deben ser arrays de numpy\n",
    "\"\"\"\n",
    "def ResolverPorCholesky(A,b):\n",
    "    L = Cholesky(A)\n",
    "    Lt = np.transpose(L)\n",
    "    \n",
    "    # Ax = b --> LUx = b --> L(Ux) = b\n",
    "    # Ux = y ; Ly = b\")\n",
    "    # Donde U = l transpuesta\n",
    "    \n",
    "    y = sust_progresiva(L,b)\n",
    "    \n",
    "    x = sust_regresiva(Lt,y)\n",
    "    \n",
    "    return (x)"
   ]
  },
  {
   "cell_type": "markdown",
   "id": "9ac77456",
   "metadata": {},
   "source": [
    "   "
   ]
  },
  {
   "cell_type": "code",
   "execution_count": null,
   "id": "3f50d179",
   "metadata": {},
   "outputs": [],
   "source": [
    "#========================= Métodos iterativos ========================="
   ]
  },
  {
   "cell_type": "code",
   "execution_count": null,
   "id": "177f68e7",
   "metadata": {},
   "outputs": [],
   "source": [
    "\"\"\"\n",
    "Esta función resuelve el sistema Ax=b de forma aproximada mediante el método iterativo de Jacobi empezando las iteraciones\n",
    "en el vector nulo.\n",
    "Las matrices A y b deben ser arrays de NumPy.\n",
    "El número máximo de iteraciones se puede introducir por el usuario y es 1000 por defecto.\n",
    "La tolerancia también se puede introducir por el usuario y es 10^(-10) por defecto.\n",
    "El método se interrumpe cuando se alcanza el número máximo de iteraciones o cuando la tolerancia es menor que la indicada.\n",
    "\n",
    "\"\"\"\n",
    "def Jacobi2(A, b, maxiter=1000, tol=10**(-10)):    \n",
    "    n=np.shape(A)[1] # se calcula la dimensión de A\n",
    "    d=np.diag(A)     # obtenemos un array con los elementos de la diagonal de la matriz A\n",
    "    D=np.diag(d)     # creamos un array diagonal con los elementos de d\n",
    "    R=A-D            # matriz con los elementos que no están en la diagonal\n",
    "    x=np.zeros(n)\n",
    "    y=np.zeros(n)\n",
    "          \n",
    "    if np.prod(d)==0:\n",
    "        print('Hay elementos nulos en la diagonal de la matriz')\n",
    "    else:\n",
    "        k=1\n",
    "        er=1\n",
    "        nx=1\n",
    "        while (er>tol*nx and k<maxiter):\n",
    "            nx=np.linalg.norm(x,1)        \n",
    "            for i in range(n):\n",
    "                y[i] = (b[i] - np.dot(A[i,:i],x[:i]) - np.dot(A[i,i+1:],x[i+1:]) )/A[i,i]  \n",
    "            er=np.linalg.norm(y-x,1)   # calculamos la norma de la diferencia entre y y el resultado de la iteración anterior        \n",
    "            x=np.copy(y)\n",
    "           # print('Iteración k=', k, '  x^(k)= ', x ) # descomentar si se quieren ver las iteraciones.\n",
    "            k+=1\n",
    "        return x"
   ]
  },
  {
   "cell_type": "code",
   "execution_count": null,
   "id": "6f49d31d",
   "metadata": {},
   "outputs": [],
   "source": [
    "\"\"\"\n",
    "Esta función resuelve el sistema Ax=b de forma aproximada mediante el método iterativo de Gauss-Seidel \n",
    "empezando las iteraciones en el vector nulo.\n",
    "PRE: Las matrices A y b deben ser arrays de NumPy.\n",
    "     El número máximo de iteraciones se puede introducir por el usuario y es 1000 por defecto.\n",
    "     La tolerancia también se puede introducir por el usuario y es 10^(-10) por defecto.\n",
    "     El método se interrumpe cuando se alcanza el número máximo de iteraciones o cuando la tolerancia es \n",
    "     menor que la indicada.\n",
    "    \n",
    "\"\"\"\n",
    "def GaussSeidel(A, b, maxiter=1000, tol=10**(-10)):\n",
    "    n = np.shape(A)[1] # se calcula la dimensión de A\n",
    "    d = np.diag(A)     # obtenemos un array con los elementos de la diagonal de la matriz A\n",
    "    D = np.diag(d)     # creamos un array diagonal con los elementos de d\n",
    "    R = A-D            # matriz con los elementos que no están en la diagonal\n",
    "    x = np.zeros(n)\n",
    "    y = np.zeros(n)\n",
    "    \n",
    "    if np.prod(d)==0:\n",
    "        print('Hay elementos nulos en la diagonal de la matriz')\n",
    "    else:\n",
    "        k = 1\n",
    "        er = 1\n",
    "        nx = 1\n",
    "        while (er > tol*nx and k < maxiter):\n",
    "            nx = np.linalg.norm(x, 1)\n",
    "            for i in range(n):\n",
    "                y[i] = (b[i] - np.dot(A[i, :i], y[:i]) - np.dot(A[i, (i+1):], x[(i+1):])) / A[i, i]\n",
    "            er = np.linalg.norm(y-x,1) # calculamos la norma de la diferencia entre y y el resultado de la iteración anterior        \n",
    "            x = np.copy(y)\n",
    "            #print('Iteración k=', k, '  x^(k)= ', x ) # descomentar si se quieren ver las iteraciones.\n",
    "            k += 1\n",
    "        return x"
   ]
  },
  {
   "cell_type": "code",
   "execution_count": null,
   "id": "1bb0a92d",
   "metadata": {},
   "outputs": [],
   "source": [
    "\"\"\"\n",
    "Esta función resuelve el sistema Ax=b de forma aproximada mediante el método iterativo de Gauss-Seidel \n",
    "empezando las iteraciones en el vector nulo.\n",
    "PRE: - Las matrices A y b deben ser arrays de NumPy.\n",
    "     - El número máximo de iteraciones se puede introducir por el usuario y es 1000 por defecto.\n",
    "     - La tolerancia también se puede introducir por el usuario y es 10^(-10) por defecto.\n",
    "     - El método se interrumpe cuando se alcanza el número máximo de iteraciones o cuando la tolerancia es \n",
    "       menor que la indicada.\n",
    "     - El valor de la constante w debe ser 0 < w < 2 para que el método funcione\n",
    "    \n",
    "\"\"\"\n",
    "def Relajacion(A, b, w, maxiter=1000, tol=10**(-10)):\n",
    "    n = np.shape(A)[1] # se calcula la dimensión de A\n",
    "    d = np.diag(A)     # obtenemos un array con los elementos de la diagonal de la matriz A\n",
    "    D = np.diag(d)     # creamos un array diagonal con los elementos de d\n",
    "    R = A-D            # matriz con los elementos que no están en la diagonal\n",
    "    x = np.zeros(n)\n",
    "    y = np.zeros(n)\n",
    "    \n",
    "    if ((0 < w) and (w < 2)):\n",
    "        if np.prod(d)==0:\n",
    "            print('Hay elementos nulos en la diagonal de la matriz')\n",
    "        else:\n",
    "            k = 1\n",
    "            er = 1\n",
    "            nx = 1\n",
    "            while (er > tol*nx and k < maxiter):\n",
    "                nx = np.linalg.norm(x, 1)\n",
    "                for i in range(n):\n",
    "                    y[i] = ((w * (b[i] - np.dot(A[i, :i], y[:i]) - np.dot(A[i, (i+1):], x[(i+1):]))) / A[i, i]) + ((1 - w)*x[i])\n",
    "                er = np.linalg.norm(y-x,1)  # calculamos la norma de la diferencia entre y y el resultado de la iteración anterior        \n",
    "                x = np.copy(y)\n",
    "                #print('Iteración k=', k, '  x^(k)= ', x ) # descomentar si se quieren ver las iteraciones.\n",
    "                k += 1\n",
    "        \n",
    "    else:\n",
    "        print (\"Error: El método de relajación solo puede ser convergente si 0 < w < 2\")\n",
    "    return x\n",
    "    "
   ]
  },
  {
   "cell_type": "markdown",
   "id": "9a5aeefc",
   "metadata": {},
   "source": [
    "   "
   ]
  },
  {
   "cell_type": "code",
   "execution_count": null,
   "id": "76fe1a37",
   "metadata": {},
   "outputs": [],
   "source": [
    "\"\"\"   MAIN   \"\"\"\n",
    "\n",
    "#Creamos la matriz cuadrada de orden 20 con todo ceros, luego asignaremos el valor de cada elemento\n",
    "A = np.zeros([20, 20])\n",
    "for i in range (1, 21):\n",
    "    for j in range (1, 21):\n",
    "        if (i == j):\n",
    "            A[i-1, j-1] = 20*(i*i)\n",
    "        else:\n",
    "            A[i-1, j-1] = 1/(i + j)\n",
    "\n",
    "#Creamos el vector b en la que todas sus componentes son iguales a 20\n",
    "b = np.full(20, 20)\n",
    "\n",
    "#Resolvemos por Gauss usando pivotaje parcial\n",
    "x = GaussPvtParcial(A, b)\n",
    "print (\"Solución por Gauss:\\nx = \", x, \"\\n\")"
   ]
  },
  {
   "cell_type": "code",
   "execution_count": null,
   "id": "00e77a91",
   "metadata": {},
   "outputs": [],
   "source": [
    "#Resolvemos por descomposición L,U usando la descomposición de Doolitle\n",
    "x = ResolverPorLUDoolitle(A,b)\n",
    "print (\"Solución por Doolitle:\\nx = \", x, \"\\n\")"
   ]
  },
  {
   "cell_type": "code",
   "execution_count": null,
   "id": "35617959",
   "metadata": {},
   "outputs": [],
   "source": [
    "#Resolvemos por descomposición L,U usando la descomposición de Cholesky\n",
    "x = ResolverPorCholesky(A, b)\n",
    "print (\"Solución por Cholesky:\\nx = \", x, \"\\n\")"
   ]
  },
  {
   "cell_type": "code",
   "execution_count": null,
   "id": "cb6dfbb5",
   "metadata": {},
   "outputs": [],
   "source": [
    "#Resolvemos por el método de Jacobi\n",
    "x = Jacobi2(A, b)\n",
    "print (\"Solución por Jacobi:\\nx = \", x, \"\\n\")"
   ]
  },
  {
   "cell_type": "code",
   "execution_count": null,
   "id": "7bc75417",
   "metadata": {},
   "outputs": [],
   "source": [
    "#Resolvemos por el método de Gauss-Seidel\n",
    "x = GaussSeidel(A, b)\n",
    "print (\"Solución por Gauss-Seidel:\\nx = \", x, \"\\n\")"
   ]
  },
  {
   "cell_type": "code",
   "execution_count": null,
   "id": "dbfd9a72",
   "metadata": {},
   "outputs": [],
   "source": [
    "#Resolvemos por el método de Relajación\n",
    "w = 1.5\n",
    "x = Relajacion(A, b, w)\n",
    "print (\"Solución por Relajación:\\nx = \", x, \"\\n\")"
   ]
  },
  {
   "cell_type": "code",
   "execution_count": null,
   "id": "a2366730",
   "metadata": {},
   "outputs": [],
   "source": [
    "np.linalg.solve(A,b)"
   ]
  }
 ],
 "metadata": {
  "kernelspec": {
   "display_name": "Python 3 (ipykernel)",
   "language": "python",
   "name": "python3"
  },
  "language_info": {
   "codemirror_mode": {
    "name": "ipython",
    "version": 3
   },
   "file_extension": ".py",
   "mimetype": "text/x-python",
   "name": "python",
   "nbconvert_exporter": "python",
   "pygments_lexer": "ipython3",
   "version": "3.9.7"
  }
 },
 "nbformat": 4,
 "nbformat_minor": 5
}
