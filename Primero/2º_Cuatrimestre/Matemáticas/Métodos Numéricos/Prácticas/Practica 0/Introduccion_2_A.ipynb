{
 "cells": [
  {
   "cell_type": "markdown",
   "id": "241266c2",
   "metadata": {},
   "source": [
    "# Primeros pasos con los Notebooks de IPython (parte 2)"
   ]
  },
  {
   "cell_type": "markdown",
   "id": "6202c01d",
   "metadata": {},
   "source": [
    "###  Bucles"
   ]
  },
  {
   "cell_type": "markdown",
   "id": "5a1f5ead",
   "metadata": {},
   "source": [
    "Los bucles pueden programarse de diferentes formas pero la más habitual es utilizando la sentencia `for`"
   ]
  },
  {
   "cell_type": "code",
   "execution_count": 4,
   "id": "f89927c5",
   "metadata": {},
   "outputs": [
    {
     "name": "stdout",
     "output_type": "stream",
     "text": [
      "3\n",
      "5\n",
      "7\n"
     ]
    }
   ],
   "source": [
    "for x in [3,5,7]:\n",
    "    print(x)"
   ]
  },
  {
   "cell_type": "code",
   "execution_count": 5,
   "id": "fee8fb25",
   "metadata": {},
   "outputs": [
    {
     "name": "stdout",
     "output_type": "stream",
     "text": [
      "0\n",
      "1\n",
      "2\n"
     ]
    }
   ],
   "source": [
    "for x in range(3):\n",
    "    print(x)          # recordemos que range(n) recorre los números enteros de 0 a n-1"
   ]
  },
  {
   "cell_type": "code",
   "execution_count": 6,
   "id": "fb6b5849",
   "metadata": {},
   "outputs": [
    {
     "name": "stdout",
     "output_type": "stream",
     "text": [
      "-1\n",
      "0\n",
      "1\n",
      "2\n"
     ]
    }
   ],
   "source": [
    "for x in range(-1,3):\n",
    "    print(x)           # observa que range(a,b) recorre los números enteros de a a b-1"
   ]
  },
  {
   "cell_type": "markdown",
   "id": "9fbc51e2",
   "metadata": {},
   "source": [
    "A veces puede ser útil acceder a los índices de los valores de nuestra lista mientras iteramos sobre ella."
   ]
  },
  {
   "cell_type": "code",
   "execution_count": 7,
   "id": "98e01df8",
   "metadata": {},
   "outputs": [
    {
     "name": "stdout",
     "output_type": "stream",
     "text": [
      "0 -2\n",
      "1 -1\n",
      "2 0\n",
      "3 1\n",
      "4 2\n"
     ]
    }
   ],
   "source": [
    "for i,x in enumerate(range(-2,3)):\n",
    "    print(i,x)"
   ]
  },
  {
   "cell_type": "markdown",
   "id": "4c5cc06f",
   "metadata": {},
   "source": [
    "También se suele utilizar la orden `while`"
   ]
  },
  {
   "cell_type": "code",
   "execution_count": 8,
   "id": "304319ae",
   "metadata": {},
   "outputs": [
    {
     "name": "stdout",
     "output_type": "stream",
     "text": [
      "1\n",
      "4\n",
      "9\n",
      "fin\n"
     ]
    }
   ],
   "source": [
    "i=1\n",
    "while i<= 3:\n",
    "    print(i**2)\n",
    "    i+=1\n",
    "print('fin')"
   ]
  },
  {
   "cell_type": "markdown",
   "id": "8387703b",
   "metadata": {},
   "source": [
    "Es interesante el uso de listas como en este ejemplo:"
   ]
  },
  {
   "cell_type": "code",
   "execution_count": 9,
   "id": "0b81b2d8",
   "metadata": {},
   "outputs": [
    {
     "name": "stdout",
     "output_type": "stream",
     "text": [
      "[1, 4, 9]\n"
     ]
    }
   ],
   "source": [
    "l=[x**2 for x in range(1,4)]\n",
    "print(l)"
   ]
  },
  {
   "cell_type": "markdown",
   "id": "1790f385",
   "metadata": {},
   "source": [
    "### Funciones"
   ]
  },
  {
   "cell_type": "markdown",
   "id": "9b335198",
   "metadata": {},
   "source": [
    "En Python las funciones se definen mediante la palabra clave `def`, seguida del nombre de la funcion con sus correspondientes paréntesis y `:`. El código que sigue a continuación irá indentado y corresponderá al cuerpo de la función. "
   ]
  },
  {
   "cell_type": "markdown",
   "id": "8acc9fcf",
   "metadata": {},
   "source": [
    "En los paréntesis puede no aparecer ninguna variable:"
   ]
  },
  {
   "cell_type": "code",
   "execution_count": 10,
   "id": "76eecca9",
   "metadata": {},
   "outputs": [],
   "source": [
    "def l3():\n",
    "    for i in range (3):\n",
    "        print(i**3)"
   ]
  },
  {
   "cell_type": "code",
   "execution_count": 11,
   "id": "a75433f5",
   "metadata": {},
   "outputs": [
    {
     "name": "stdout",
     "output_type": "stream",
     "text": [
      "0\n",
      "1\n",
      "8\n"
     ]
    }
   ],
   "source": [
    "l3()"
   ]
  },
  {
   "cell_type": "markdown",
   "id": "4558528d",
   "metadata": {},
   "source": [
    "O puede aparecer una variable como suele ser habitual en las funciones matemáticas:"
   ]
  },
  {
   "cell_type": "code",
   "execution_count": 12,
   "id": "9ea74191",
   "metadata": {},
   "outputs": [],
   "source": [
    "def factorial(x):\n",
    "    \"\"\"\n",
    "    Devuelve el factorial de un número x              \n",
    "    \n",
    "    \"\"\"\n",
    "    fact=1\n",
    "    for i in range(2,x+1):\n",
    "        fact*=i                                  ## la información comprendida entre las triples comillas\n",
    "    print('El factorial de',x, 'es', fact)       ##  proporciona una documentación sobre el propósito de la función"
   ]
  },
  {
   "cell_type": "code",
   "execution_count": 13,
   "id": "45fa55a0",
   "metadata": {},
   "outputs": [
    {
     "name": "stdout",
     "output_type": "stream",
     "text": [
      "El factorial de 5 es 120\n"
     ]
    }
   ],
   "source": [
    "factorial(5)"
   ]
  },
  {
   "cell_type": "code",
   "execution_count": 14,
   "id": "47e6a7cd",
   "metadata": {},
   "outputs": [
    {
     "name": "stdout",
     "output_type": "stream",
     "text": [
      "Help on function factorial in module __main__:\n",
      "\n",
      "factorial(x)\n",
      "    Devuelve el factorial de un número x\n",
      "\n"
     ]
    }
   ],
   "source": [
    "help(factorial)"
   ]
  },
  {
   "cell_type": "markdown",
   "id": "ca8f00da",
   "metadata": {},
   "source": [
    "En la propia definición de una función podemos dar valores por defecto a los argumentos de la función:"
   ]
  },
  {
   "cell_type": "code",
   "execution_count": 15,
   "id": "877dad78",
   "metadata": {},
   "outputs": [],
   "source": [
    "def potencia(x,n=2):\n",
    "    print(x**n)"
   ]
  },
  {
   "cell_type": "code",
   "execution_count": 16,
   "id": "4ca15e2f",
   "metadata": {},
   "outputs": [
    {
     "name": "stdout",
     "output_type": "stream",
     "text": [
      "4\n"
     ]
    }
   ],
   "source": [
    "potencia(2)"
   ]
  },
  {
   "cell_type": "code",
   "execution_count": 17,
   "id": "6362a982",
   "metadata": {},
   "outputs": [
    {
     "name": "stdout",
     "output_type": "stream",
     "text": [
      "8\n"
     ]
    }
   ],
   "source": [
    "potencia(2,3)"
   ]
  },
  {
   "cell_type": "code",
   "execution_count": 18,
   "id": "d49b271c",
   "metadata": {},
   "outputs": [
    {
     "name": "stdout",
     "output_type": "stream",
     "text": [
      "9\n"
     ]
    }
   ],
   "source": [
    "potencia(3,2)"
   ]
  },
  {
   "cell_type": "code",
   "execution_count": 19,
   "id": "da4cad31",
   "metadata": {},
   "outputs": [
    {
     "name": "stdout",
     "output_type": "stream",
     "text": [
      "8\n"
     ]
    }
   ],
   "source": [
    "potencia(x=2,n=3)"
   ]
  },
  {
   "cell_type": "code",
   "execution_count": 20,
   "id": "05eed50b",
   "metadata": {},
   "outputs": [
    {
     "name": "stdout",
     "output_type": "stream",
     "text": [
      "8\n"
     ]
    }
   ],
   "source": [
    "potencia(n=3,x=2)"
   ]
  },
  {
   "cell_type": "markdown",
   "id": "3af3b4bc",
   "metadata": {},
   "source": [
    "Observa que si proporcionamos de manera explícita el nombre de los argumentos en la correspondiente llamada a la función, entonces ni siquiera es necesario que éstos vengan en el mismo orden en el que se definió la función."
   ]
  },
  {
   "cell_type": "markdown",
   "id": "e7d3563c",
   "metadata": {},
   "source": [
    "## Librerías"
   ]
  },
  {
   "cell_type": "markdown",
   "id": "b61732cd",
   "metadata": {},
   "source": [
    "Vamos a utilizar diferentes librerías de Python según el tipo de programas o funciones que vayamos a tratar. Dos de las más importantes para nosotros serán `NumPy`, `Scipy`, `SymPy` y `MatPlotlib`. Hay diferentes formas de cargar esas librerías, podéis documentaros un poco sobre este asunto. Nosotros normalmente lo haremos utilizando un pseudónimo que es lo más habitual."
   ]
  },
  {
   "cell_type": "code",
   "execution_count": 21,
   "id": "69b3eb5f",
   "metadata": {},
   "outputs": [],
   "source": [
    "import numpy as np              # aquí cargamos numpy con el pseudónimo np               \n",
    "import sympy as sp              # y sympy  como sp\n",
    "import matplotlib.pyplot as plt  # Aquí cargamos el módulo pyplot de la librería MatPlotlib "
   ]
  },
  {
   "cell_type": "markdown",
   "id": "cc7b871d",
   "metadata": {},
   "source": [
    "La librería `NumPy` es una librería especializada en el cálculo numérico y el análisis de datos. `Sympy`se utiliza para el cálculo simbólico y el módulo `PyPlot` de la librería `MatPlotlib` para la representación gráfica."
   ]
  },
  {
   "cell_type": "markdown",
   "id": "83511ab0",
   "metadata": {},
   "source": [
    "Cuando utilizamos alguna función de alguna de esas librerías tendremos que escribir delante el pseudónimo como en el siguiente ejemplo:"
   ]
  },
  {
   "cell_type": "code",
   "execution_count": 22,
   "id": "51efd53b",
   "metadata": {},
   "outputs": [],
   "source": [
    "x=sp.Symbol('x') # nos permite usar x de forma simbólica, como un símbolo"
   ]
  },
  {
   "cell_type": "code",
   "execution_count": 23,
   "id": "3f492d03",
   "metadata": {},
   "outputs": [
    {
     "data": {
      "text/latex": [
       "$\\displaystyle x^{2}$"
      ],
      "text/plain": [
       "x**2"
      ]
     },
     "execution_count": 23,
     "metadata": {},
     "output_type": "execute_result"
    }
   ],
   "source": [
    "x**2"
   ]
  },
  {
   "cell_type": "code",
   "execution_count": 24,
   "id": "9974446a",
   "metadata": {},
   "outputs": [
    {
     "data": {
      "text/plain": [
       "array([1, 2, 3])"
      ]
     },
     "execution_count": 24,
     "metadata": {},
     "output_type": "execute_result"
    }
   ],
   "source": [
    "np.array([1,2,3])"
   ]
  },
  {
   "cell_type": "code",
   "execution_count": 25,
   "id": "6747f2f3",
   "metadata": {},
   "outputs": [
    {
     "data": {
      "text/plain": [
       "array([0, 2, 4, 6, 8])"
      ]
     },
     "execution_count": 25,
     "metadata": {},
     "output_type": "execute_result"
    }
   ],
   "source": [
    "np.arange(0,10,2) "
   ]
  },
  {
   "cell_type": "markdown",
   "id": "f74a7827",
   "metadata": {},
   "source": [
    "Hemos creado un **array** de dos formas diferentes. Los arrays de NumPy son objetos mutables igual que las listas de Python pero existen algunas diferencias entre ellos. En las listas no se pueden realizar operaciones matemáticas mientras que sí es posible en los arrays. Por otro lado, las listas permiten trabajar con diferentes tipos de datos, incluso listas anidadas."
   ]
  },
  {
   "cell_type": "code",
   "execution_count": 26,
   "id": "cf2cb1cc",
   "metadata": {},
   "outputs": [],
   "source": [
    "l=[1,2,3]"
   ]
  },
  {
   "cell_type": "code",
   "execution_count": 27,
   "id": "a62c5246",
   "metadata": {},
   "outputs": [
    {
     "data": {
      "text/plain": [
       "[1, 2, 3, 1, 2, 3]"
      ]
     },
     "execution_count": 27,
     "metadata": {},
     "output_type": "execute_result"
    }
   ],
   "source": [
    "2*l"
   ]
  },
  {
   "cell_type": "code",
   "execution_count": 28,
   "id": "028a9a2a",
   "metadata": {},
   "outputs": [],
   "source": [
    "mat=np.array([[1,2,3],[4,5,6]])"
   ]
  },
  {
   "cell_type": "code",
   "execution_count": 29,
   "id": "d1bdb35e",
   "metadata": {},
   "outputs": [
    {
     "data": {
      "text/plain": [
       "array([[ 2,  4,  6],\n",
       "       [ 8, 10, 12]])"
      ]
     },
     "execution_count": 29,
     "metadata": {},
     "output_type": "execute_result"
    }
   ],
   "source": [
    "2*mat"
   ]
  },
  {
   "cell_type": "code",
   "execution_count": 30,
   "id": "75c5fa09",
   "metadata": {},
   "outputs": [
    {
     "data": {
      "text/plain": [
       "(2, 3)"
      ]
     },
     "execution_count": 30,
     "metadata": {},
     "output_type": "execute_result"
    }
   ],
   "source": [
    "mat.shape"
   ]
  },
  {
   "cell_type": "code",
   "execution_count": 31,
   "id": "bb1db06f",
   "metadata": {},
   "outputs": [
    {
     "data": {
      "text/plain": [
       "6"
      ]
     },
     "execution_count": 31,
     "metadata": {},
     "output_type": "execute_result"
    }
   ],
   "source": [
    "mat.size"
   ]
  },
  {
   "cell_type": "code",
   "execution_count": 32,
   "id": "89fb42e0",
   "metadata": {},
   "outputs": [
    {
     "data": {
      "text/plain": [
       "array([[1, 2, 3],\n",
       "       [4, 5, 6]])"
      ]
     },
     "execution_count": 32,
     "metadata": {},
     "output_type": "execute_result"
    }
   ],
   "source": [
    "mat"
   ]
  },
  {
   "cell_type": "code",
   "execution_count": 33,
   "id": "de379560",
   "metadata": {},
   "outputs": [
    {
     "data": {
      "text/plain": [
       "(6, 5)"
      ]
     },
     "execution_count": 33,
     "metadata": {},
     "output_type": "execute_result"
    }
   ],
   "source": [
    "np.amax(mat), np.argmax(mat) # para calcular el máximo en un array y la posición que ocupa dentro del array"
   ]
  },
  {
   "cell_type": "code",
   "execution_count": 34,
   "id": "fb7c5e6f",
   "metadata": {},
   "outputs": [
    {
     "data": {
      "text/plain": [
       "3"
      ]
     },
     "execution_count": 34,
     "metadata": {},
     "output_type": "execute_result"
    }
   ],
   "source": [
    "np.amax(mat[0])"
   ]
  },
  {
   "cell_type": "code",
   "execution_count": 35,
   "id": "ec5fd397",
   "metadata": {},
   "outputs": [
    {
     "data": {
      "text/plain": [
       "array([1.+0.j, 2.+0.j, 3.+0.j])"
      ]
     },
     "execution_count": 35,
     "metadata": {},
     "output_type": "execute_result"
    }
   ],
   "source": [
    "np.array([1,2,3], dtype=complex)"
   ]
  },
  {
   "cell_type": "code",
   "execution_count": 36,
   "id": "f91a8c77",
   "metadata": {},
   "outputs": [
    {
     "data": {
      "text/plain": [
       "array([[0., 0., 0., 0.],\n",
       "       [0., 0., 0., 0.]])"
      ]
     },
     "execution_count": 36,
     "metadata": {},
     "output_type": "execute_result"
    }
   ],
   "source": [
    "np.zeros([2,4]) # crea un array de ceros"
   ]
  },
  {
   "cell_type": "code",
   "execution_count": 37,
   "id": "dd476379",
   "metadata": {},
   "outputs": [
    {
     "data": {
      "text/plain": [
       "array([1., 1., 1.])"
      ]
     },
     "execution_count": 37,
     "metadata": {},
     "output_type": "execute_result"
    }
   ],
   "source": [
    "np.ones(3) # crea un array de unos"
   ]
  },
  {
   "cell_type": "code",
   "execution_count": 38,
   "id": "4bf6d306",
   "metadata": {},
   "outputs": [
    {
     "data": {
      "text/plain": [
       "array([2.        , 2.11111111, 2.22222222, 2.33333333, 2.44444444,\n",
       "       2.55555556, 2.66666667, 2.77777778, 2.88888889, 3.        ])"
      ]
     },
     "execution_count": 38,
     "metadata": {},
     "output_type": "execute_result"
    }
   ],
   "source": [
    "np.linspace(2,3,10) # crea un array con 10 elementos equiespaciados entre 2 y 3 (ambos incluidos)"
   ]
  },
  {
   "cell_type": "code",
   "execution_count": 39,
   "id": "8f5334af",
   "metadata": {},
   "outputs": [
    {
     "data": {
      "text/plain": [
       "array([[1., 0., 0., 0.],\n",
       "       [0., 1., 0., 0.],\n",
       "       [0., 0., 1., 0.],\n",
       "       [0., 0., 0., 1.]])"
      ]
     },
     "execution_count": 39,
     "metadata": {},
     "output_type": "execute_result"
    }
   ],
   "source": [
    "np.eye(4) # crea la matriz identidad de orden 4"
   ]
  },
  {
   "cell_type": "code",
   "execution_count": 40,
   "id": "db39e735",
   "metadata": {},
   "outputs": [
    {
     "data": {
      "text/plain": [
       "array([[ 2,  0,  0],\n",
       "       [ 0, -3,  0],\n",
       "       [ 0,  0,  5]])"
      ]
     },
     "execution_count": 40,
     "metadata": {},
     "output_type": "execute_result"
    }
   ],
   "source": [
    "np.diag([2,-3,5]) # crea una matriz diagonal introduciendo los elementos de la diagonal principal "
   ]
  },
  {
   "cell_type": "code",
   "execution_count": 41,
   "id": "50c003b6",
   "metadata": {},
   "outputs": [
    {
     "data": {
      "text/plain": [
       "array([[0.80960585, 0.36084163, 0.23711127],\n",
       "       [0.90676304, 0.16217566, 0.53341019]])"
      ]
     },
     "execution_count": 41,
     "metadata": {},
     "output_type": "execute_result"
    }
   ],
   "source": [
    "np.random.rand(2,3) # crea un array de dos filas y tres columnas de números aleatorios entre o y 1"
   ]
  },
  {
   "cell_type": "code",
   "execution_count": 42,
   "id": "9164090c",
   "metadata": {},
   "outputs": [
    {
     "data": {
      "text/plain": [
       "array([0, 1, 4])"
      ]
     },
     "execution_count": 42,
     "metadata": {},
     "output_type": "execute_result"
    }
   ],
   "source": [
    "a=np.array([i**2 for i in range(3)])\n",
    "a"
   ]
  },
  {
   "cell_type": "code",
   "execution_count": 43,
   "id": "1701a07d",
   "metadata": {},
   "outputs": [
    {
     "data": {
      "text/plain": [
       "array([[0, 1, 2],\n",
       "       [1, 2, 3]])"
      ]
     },
     "execution_count": 43,
     "metadata": {},
     "output_type": "execute_result"
    }
   ],
   "source": [
    "b=np.array([[i**2+j for j in range(3)] for i in range(2)])\n",
    "b"
   ]
  },
  {
   "cell_type": "code",
   "execution_count": 44,
   "id": "4de56942",
   "metadata": {},
   "outputs": [
    {
     "data": {
      "text/plain": [
       "array([[0, 1],\n",
       "       [1, 2]])"
      ]
     },
     "execution_count": 44,
     "metadata": {},
     "output_type": "execute_result"
    }
   ],
   "source": [
    "n=3\n",
    "b[:,:n-1]"
   ]
  },
  {
   "cell_type": "code",
   "execution_count": 47,
   "id": "a435ca55",
   "metadata": {},
   "outputs": [
    {
     "name": "stdout",
     "output_type": "stream",
     "text": [
      "[[0 1 2]\n",
      " [1 2 3]] \n",
      "\n",
      "[0 1 4]\n"
     ]
    },
    {
     "data": {
      "text/plain": [
       "array([ 9, 14])"
      ]
     },
     "execution_count": 47,
     "metadata": {},
     "output_type": "execute_result"
    }
   ],
   "source": [
    "print (b, \"\\n\")\n",
    "print (a)\n",
    "np.dot(b,a) "
   ]
  },
  {
   "cell_type": "markdown",
   "id": "886054c9",
   "metadata": {},
   "source": [
    "**Ejercicio:** \n",
    "- Crea un array de `Numpy` de 8 filas y 10 columnas de manera que el elemento $(i,j)$ sea  $3i+2j$ para $1\\le i\\le 8$ y $1\\le j\\le 10$. Ten en cuenta que las filas y columnas se numeran a partir de 1 pero en Python la numeración empieza en 0. El primer elemento de la matriz debe ser 5.\n",
    "- Crea ahora un array $B$ de números aleatorios entre 0 y 1 de tamaño $4\\times 4$. Calcula $B^{10}$."
   ]
  },
  {
   "cell_type": "code",
   "execution_count": null,
   "id": "0b778c07",
   "metadata": {},
   "outputs": [],
   "source": []
  }
 ],
 "metadata": {
  "kernelspec": {
   "display_name": "Python 3 (ipykernel)",
   "language": "python",
   "name": "python3"
  },
  "language_info": {
   "codemirror_mode": {
    "name": "ipython",
    "version": 3
   },
   "file_extension": ".py",
   "mimetype": "text/x-python",
   "name": "python",
   "nbconvert_exporter": "python",
   "pygments_lexer": "ipython3",
   "version": "3.9.7"
  }
 },
 "nbformat": 4,
 "nbformat_minor": 5
}
