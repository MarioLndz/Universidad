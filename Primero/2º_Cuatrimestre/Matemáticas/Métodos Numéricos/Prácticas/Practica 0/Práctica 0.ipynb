{
 "cells": [
  {
   "cell_type": "markdown",
   "id": "c8d43f9f",
   "metadata": {},
   "source": [
    "# Ejercicio 1: "
   ]
  },
  {
   "cell_type": "markdown",
   "id": "2fcc80c3",
   "metadata": {},
   "source": [
    "a) Escribe un pequeño programa que calcule el máximo entre 4 números que debe introducir el usuario."
   ]
  },
  {
   "cell_type": "code",
   "execution_count": 6,
   "id": "31226760",
   "metadata": {},
   "outputs": [
    {
     "name": "stdout",
     "output_type": "stream",
     "text": [
      "Introduce 4 números: \n",
      "\n",
      "- Num 1: 65\n",
      "- Num 2: 4\n",
      "- Num 3: 102\n",
      "- Num 4: 1\n",
      "\n",
      "El máximo valor introducido es el:  102.0\n"
     ]
    }
   ],
   "source": [
    "print (\"Introduce 4 números: \\n\")\n",
    "\n",
    "#Lectura anticipada del primer valor, lo usaremos como primer valor maximo introducido\n",
    "num = float (input (\"- Num 1: \"))\n",
    "maximo = num\n",
    "\n",
    "for i in range(2, 5):\n",
    "    num = float (input (\"- Num %d: \" %i))\n",
    "    \n",
    "    #Nuevo maximo\n",
    "    if (maximo < num):\n",
    "        maximo = num\n",
    "\n",
    "print (\"\\nEl máximo valor introducido es el: \", maximo)"
   ]
  },
  {
   "cell_type": "markdown",
   "id": "893ebbf1",
   "metadata": {},
   "source": [
    "   "
   ]
  },
  {
   "cell_type": "markdown",
   "id": "0c41c048",
   "metadata": {},
   "source": [
    "# Ejercicio 2:"
   ]
  },
  {
   "cell_type": "markdown",
   "id": "7f065ea6",
   "metadata": {},
   "source": [
    "a) Crea un array de Numpy de 8 filas y 10 columnas de manera que el elemento  (𝑖,𝑗)  sea  3𝑖+2𝑗  para  1≤𝑖≤8  y  1≤𝑗≤10 . Ten en cuenta que las filas y columnas se numeran a partir de 1 pero en Python la numeración empieza en 0. El primer elemento de la matriz debe ser 5"
   ]
  },
  {
   "cell_type": "code",
   "execution_count": 2,
   "id": "705f50f2",
   "metadata": {},
   "outputs": [],
   "source": [
    "import numpy as np              # aquí cargamos numpy con el pseudónimo np               \n",
    "import sympy as sp              # y sympy  como sp"
   ]
  },
  {
   "cell_type": "code",
   "execution_count": 3,
   "id": "aaa69430",
   "metadata": {},
   "outputs": [
    {
     "data": {
      "text/plain": [
       "array([[ 5,  7,  9, 11, 13, 15, 17, 19, 21, 23],\n",
       "       [ 8, 10, 12, 14, 16, 18, 20, 22, 24, 26],\n",
       "       [11, 13, 15, 17, 19, 21, 23, 25, 27, 29],\n",
       "       [14, 16, 18, 20, 22, 24, 26, 28, 30, 32],\n",
       "       [17, 19, 21, 23, 25, 27, 29, 31, 33, 35],\n",
       "       [20, 22, 24, 26, 28, 30, 32, 34, 36, 38],\n",
       "       [23, 25, 27, 29, 31, 33, 35, 37, 39, 41],\n",
       "       [26, 28, 30, 32, 34, 36, 38, 40, 42, 44]])"
      ]
     },
     "execution_count": 3,
     "metadata": {},
     "output_type": "execute_result"
    }
   ],
   "source": [
    "mat = np.array([[((3*i)+(2*j)) for j in range(1,11)] for i in range(1,9)])\n",
    "mat"
   ]
  },
  {
   "cell_type": "markdown",
   "id": "7b7ae81d",
   "metadata": {},
   "source": [
    "b) Crea ahora un array  𝐵  de números aleatorios entre 0 y 1 de tamaño  4×4 . Calcula  𝐵^10"
   ]
  },
  {
   "cell_type": "code",
   "execution_count": 4,
   "id": "19f41eb3",
   "metadata": {},
   "outputs": [
    {
     "data": {
      "text/plain": [
       "array([[0.95136145, 0.12096572, 0.30466133, 0.491214  ],\n",
       "       [0.92356445, 0.40604529, 0.2956141 , 0.62238874],\n",
       "       [0.95024779, 0.70120988, 0.04561473, 0.0029122 ],\n",
       "       [0.33617001, 0.38891111, 0.49226042, 0.22746575]])"
      ]
     },
     "execution_count": 4,
     "metadata": {},
     "output_type": "execute_result"
    }
   ],
   "source": [
    "#Array de números aleatorios\n",
    "b = np.random.rand(4,4)\n",
    "b"
   ]
  },
  {
   "cell_type": "code",
   "execution_count": 5,
   "id": "ef36bff3",
   "metadata": {
    "scrolled": true
   },
   "outputs": [
    {
     "data": {
      "text/plain": [
       "array([[177.20122938,  69.94277792,  64.87707587,  82.13067905],\n",
       "       [218.39601117,  86.20271785,  79.95929484, 101.2239435 ],\n",
       "       [181.48471007,  71.63389459,  66.44519456,  84.11560321],\n",
       "       [146.87290412,  57.97203767,  53.77351284,  68.07381927]])"
      ]
     },
     "execution_count": 5,
     "metadata": {},
     "output_type": "execute_result"
    }
   ],
   "source": [
    "#Potencia de 10 de la matriz\n",
    "a = np.linalg.matrix_power(b, 10)\n",
    "a"
   ]
  }
 ],
 "metadata": {
  "kernelspec": {
   "display_name": "Python 3 (ipykernel)",
   "language": "python",
   "name": "python3"
  },
  "language_info": {
   "codemirror_mode": {
    "name": "ipython",
    "version": 3
   },
   "file_extension": ".py",
   "mimetype": "text/x-python",
   "name": "python",
   "nbconvert_exporter": "python",
   "pygments_lexer": "ipython3",
   "version": "3.9.7"
  }
 },
 "nbformat": 4,
 "nbformat_minor": 5
}
