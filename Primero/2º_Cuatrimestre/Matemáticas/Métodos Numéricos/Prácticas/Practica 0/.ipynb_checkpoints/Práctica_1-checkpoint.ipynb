{
 "cells": [
  {
   "cell_type": "code",
   "execution_count": null,
   "id": "bbce6bd8",
   "metadata": {},
   "outputs": [],
   "source": [
    "print (\"Introduzca cuatro numeros\")\n",
    "num1 = float (input (\"- Num 1: \"))"
   ]
  },
  {
   "cell_type": "code",
   "execution_count": null,
   "id": "418c8d2f",
   "metadata": {},
   "outputs": [],
   "source": []
  },
  {
   "cell_type": "code",
   "execution_count": null,
   "id": "de487338",
   "metadata": {},
   "outputs": [],
   "source": []
  },
  {
   "cell_type": "code",
   "execution_count": null,
   "id": "6a6dc6e0",
   "metadata": {},
   "outputs": [],
   "source": []
  }
 ],
 "metadata": {
  "kernelspec": {
   "display_name": "Python 3 (ipykernel)",
   "language": "python",
   "name": "python3"
  },
  "language_info": {
   "codemirror_mode": {
    "name": "ipython",
    "version": 3
   },
   "file_extension": ".py",
   "mimetype": "text/x-python",
   "name": "python",
   "nbconvert_exporter": "python",
   "pygments_lexer": "ipython3",
   "version": "3.9.7"
  }
 },
 "nbformat": 4,
 "nbformat_minor": 5
}
