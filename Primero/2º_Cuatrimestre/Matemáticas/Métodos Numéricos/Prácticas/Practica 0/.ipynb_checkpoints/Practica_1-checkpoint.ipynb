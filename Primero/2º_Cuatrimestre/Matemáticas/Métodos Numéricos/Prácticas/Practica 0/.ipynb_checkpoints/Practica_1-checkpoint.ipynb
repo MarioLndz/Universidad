{
 "cells": [
  {
   "cell_type": "code",
   "execution_count": 3,
   "id": "f5c77b43",
   "metadata": {},
   "outputs": [
    {
     "name": "stdout",
     "output_type": "stream",
     "text": [
      "- Num 1: 89\n",
      "- Num 2: 5\n",
      "- Num 3: 6\n",
      "- Num 4: 2\n",
      "\n",
      "El máximo valor introducido es el:  89.0\n"
     ]
    }
   ],
   "source": [
    "#Lectura anticipada del primer valor, lo usaremos como primer valor maximo introducido\n",
    "num = float (input (\"- Num 1: \"))\n",
    "maximo = num\n",
    "\n",
    "for i in range(2, 5):\n",
    "    num = float (input (\"- Num %d: \" %i))\n",
    "    \n",
    "    #Nuevo maximo\n",
    "    if (maximo < num):\n",
    "        maximo = num\n",
    "\n",
    "print (\"\\nEl máximo valor introducido es el: \", maximo)"
   ]
  }
 ],
 "metadata": {
  "kernelspec": {
   "display_name": "Python 3 (ipykernel)",
   "language": "python",
   "name": "python3"
  },
  "language_info": {
   "codemirror_mode": {
    "name": "ipython",
    "version": 3
   },
   "file_extension": ".py",
   "mimetype": "text/x-python",
   "name": "python",
   "nbconvert_exporter": "python",
   "pygments_lexer": "ipython3",
   "version": "3.9.7"
  }
 },
 "nbformat": 4,
 "nbformat_minor": 5
}
