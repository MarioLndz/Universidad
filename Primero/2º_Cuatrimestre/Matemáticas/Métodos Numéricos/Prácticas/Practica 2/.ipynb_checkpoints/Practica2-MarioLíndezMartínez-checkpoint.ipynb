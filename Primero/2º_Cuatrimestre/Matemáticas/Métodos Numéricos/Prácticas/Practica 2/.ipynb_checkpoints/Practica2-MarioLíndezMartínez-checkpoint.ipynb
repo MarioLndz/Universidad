{
 "cells": [
  {
   "cell_type": "markdown",
   "id": "7fbbad9c",
   "metadata": {},
   "source": [
    "Mario Líndez Martínez"
   ]
  },
  {
   "cell_type": "markdown",
   "id": "3167d65c",
   "metadata": {},
   "source": [
    "\n",
    "\n",
    "# Práctica 2: Resolución de SEL. Métodos directos. Factorización LU y de Cholesky"
   ]
  },
  {
   "cell_type": "markdown",
   "id": "7b4b36e7",
   "metadata": {},
   "source": [
    "## Ejercicio 1"
   ]
  },
  {
   "cell_type": "markdown",
   "id": "395bc20c",
   "metadata": {},
   "source": [
    "Utilizando la descomposición LU de esta práctica y las sustituciones progresiva y regresiva de la práctica anterior, resuelve el sistema $A x=b$ donde\n",
    "$$A=\\left(\\begin{array}{rrr}\n",
    "1 & 4 & 1 \\\\\n",
    "1 & 3 & 5 \\\\\n",
    "-2 & 0 & 1 \\end{array} \\right) \\qquad b=\\left(2,-5,1 \\right) $$ "
   ]
  },
  {
   "cell_type": "code",
   "execution_count": 27,
   "id": "50c38b3d",
   "metadata": {},
   "outputs": [],
   "source": [
    "import numpy as np\n",
    "from scipy.linalg import lu, lu_solve, lu_factor"
   ]
  },
  {
   "cell_type": "code",
   "execution_count": 28,
   "id": "c458f937",
   "metadata": {},
   "outputs": [],
   "source": [
    "\"\"\"\n",
    "# Esta función resolverá un sistema Ax=b mediante sustitución progresiva\n",
    "# PRE: A y b deben ser arrays de numpy\n",
    "#      A debe ser una matriz triangular inferior\n",
    "\"\"\"\n",
    "def sust_progresiva(A, b):\n",
    "    A = A.astype(float)     #Cambiamos los elementos a tipo flotante\n",
    "    b = b.astype(float) \n",
    "    \n",
    "    n = np.size(b)\n",
    "    \n",
    "    x = np.zeros(n)         #Almacenaremos aquí la solución del sistema\n",
    "                       \n",
    "    # Resolvemos el sistema por sustitución progresiva\n",
    "    x[0] = b[0]/A[0, 0]\n",
    "    \n",
    "    for i in range (1, n, 1):\n",
    "        x[i] = (b[i] - np.dot(A[i][:i], x[:i]))/A[i,i]\n",
    "                \n",
    "    return x"
   ]
  },
  {
   "cell_type": "code",
   "execution_count": 29,
   "id": "99ad292f",
   "metadata": {},
   "outputs": [],
   "source": [
    "\"\"\"\n",
    "# Esta función resuelve el sistema Ax=b mediante sustitución regresiva. \n",
    "# PRE: A y b deben ser arrays de numpy. \n",
    "#      A debe ser una matriz triangular superior.\n",
    "\"\"\"\n",
    "def sust_regresiva(A,b):\n",
    "    \n",
    "    A=A.astype(float)     # cambiamos los elementos a tipo flotante\n",
    "    b=b.astype(float) \n",
    "    n=np.size(b)\n",
    "    x=np.zeros(n)         # almacenaremos aquí la solución del sistema\n",
    "                       \n",
    "    # ahora se resuelve el sistema por sustitución regresiva\n",
    "    x[n-1]=b[n-1]/A[n-1,n-1]\n",
    "    for i in range(n-2,-1,-1):     \n",
    "        x[i]=(b[i]-np.dot(A[i][i+1:],x[i+1:]))/A[i,i]\n",
    "                \n",
    "    return x"
   ]
  },
  {
   "cell_type": "code",
   "execution_count": 30,
   "id": "ee20d688",
   "metadata": {},
   "outputs": [],
   "source": [
    "\"\"\"\n",
    "Esta función calcula la descomposición LU de Doolittle de una matriz A sin intercambio de filas.\n",
    "A debe ser un array de Numpy.\n",
    "\"\"\"\n",
    "def LU_desc(A):\n",
    "    n=np.shape(A)[1]\n",
    "    U=np.zeros([n,n])\n",
    "    L=np.eye(n)\n",
    "    \n",
    "    for k in range(n-1):\n",
    "        U[k,k]=A[k,k]-np.dot(L[k,:k],U[:k,k])\n",
    "        for j in range(k+1,n):\n",
    "            U[k,j]=A[k,j]-np.dot(L[k,:k],U[:k,j])\n",
    "        for j in range(k+1):\n",
    "            L[k+1,j]=(A[k+1,j]-np.dot(L[k+1,:j],U[:j,j]))/U[j,j]\n",
    "    U[n-1,n-1]=A[n-1,n-1]-np.dot(L[n-1,:n-1],U[:n-1,n-1])\n",
    "    return L, U"
   ]
  },
  {
   "cell_type": "code",
   "execution_count": 31,
   "id": "3b56cb65",
   "metadata": {},
   "outputs": [
    {
     "name": "stdout",
     "output_type": "stream",
     "text": [
      "A = \n",
      " [[ 1  4  1]\n",
      " [ 1  3  5]\n",
      " [-2  0  1]]\n",
      "\n",
      "L = \n",
      " [[ 1.  0.  0.]\n",
      " [ 1.  1.  0.]\n",
      " [-2. -8.  1.]]\n",
      "\n",
      "U = \n",
      " [[ 1.  4.  1.]\n",
      " [ 0. -1.  4.]\n",
      " [ 0.  0. 35.]]\n",
      "_____________________________________________________________________________________\n",
      "\n",
      "Resolvemos la ecuación: \n",
      "\n",
      "\n",
      "Ax = b ;\t LUx = b ;\t L(Ux) = b\n",
      "Ux = y ;\t Ly = b\n",
      "\n",
      "y =  [  2.  -7. -51.]\n",
      "\n",
      "x =  [-1.22857143  1.17142857 -1.45714286]\n"
     ]
    }
   ],
   "source": [
    "A = np.array([[1, 4, 1], [1, 3, 5], [-2, 0, 1]])\n",
    "b = np.array([2, -5, 1])\n",
    "\n",
    "L, U = LU_desc(A)\n",
    "\n",
    "print (\"A = \\n\", A)\n",
    "print (\"\\nL = \\n\", L)\n",
    "print (\"\\nU = \\n\", U)\n",
    "\n",
    "print (\"_____________________________________________________________________________________\\n\")\n",
    "print (\"Resolvemos la ecuación: \\n\\n\")\n",
    "\n",
    "print (\"Ax = b ;\\t LUx = b ;\\t L(Ux) = b\\nUx = y ;\\t Ly = b\")\n",
    "\n",
    "y = sust_progresiva(L,b)\n",
    "print (\"\\ny = \", y)\n",
    "\n",
    "x = sust_regresiva(U,y)\n",
    "\n",
    "print (\"\\nx = \", x)\n"
   ]
  },
  {
   "cell_type": "code",
   "execution_count": 32,
   "id": "88fdba13",
   "metadata": {},
   "outputs": [
    {
     "name": "stdout",
     "output_type": "stream",
     "text": [
      "[-1.22857143  1.17142857 -1.45714286]\n"
     ]
    }
   ],
   "source": [
    "print (lu_solve(lu_factor(A),b))"
   ]
  },
  {
   "cell_type": "markdown",
   "id": "2a40e1a3",
   "metadata": {},
   "source": [
    "    "
   ]
  },
  {
   "cell_type": "markdown",
   "id": "7894c0b8",
   "metadata": {},
   "source": [
    "## Ejercicio 2"
   ]
  },
  {
   "cell_type": "markdown",
   "id": "d5862082",
   "metadata": {},
   "source": [
    "**Ejercicio 2:** Define una función que resuelva un sistema de ecuaciones lineales mediante la factorización de Cholesky. Comprueba su funcionamiento para intentar resolver el sistema $A x=b$ donde $b=\\left(2,-5,1 \\right)$ en los casos de los ejemplos anteriores:\n",
    "$$A=\\left(\\begin{array}{rrr}\n",
    "2 & 4 & 1 \\\\\n",
    "4 & 10 & 1 \\\\\n",
    "1 & 1 & 5 \\end{array} \\right) \\qquad \n",
    "A=\\left(\\begin{array}{rrr}\n",
    "2 & 4 & 1 \\\\\n",
    "4 & 0 & 1 \\\\\n",
    "1 & 1 & 5 \\end{array} \\right)$$ \n",
    "\n",
    "**No** se permite utilizar la función `linalg.cholesky`de `NumPy`. Hay que modificar el código anterior de la factorización LU para definir una función que haga dicha factorización."
   ]
  },
  {
   "cell_type": "code",
   "execution_count": 55,
   "id": "bccc498e",
   "metadata": {},
   "outputs": [],
   "source": [
    "\"\"\"\n",
    "Esta función descompone una matriz simétrica usando la factorización de Cholesky\n",
    "Devolverá solo el valor de L\n",
    "\"\"\"\n",
    "def Cholesky(A):\n",
    "    n = np.shape(A)[1]\n",
    "    L = np.zeros([n,n])\n",
    "    \n",
    "    for i in range (0, n):\n",
    "        L[i,i] = np.sqrt(A[i,i] - np.dot(L[i, :i], L[i, :i]))\n",
    "        \n",
    "        for j in range (i+1, n):\n",
    "            L[j, i] = (A[j, i] - np.dot(L[j, :i], L[i, :i]))/L[i,i]\n",
    "    \n",
    "    \n",
    "    return L\n",
    "    "
   ]
  },
  {
   "cell_type": "code",
   "execution_count": 56,
   "id": "26dbaabe",
   "metadata": {},
   "outputs": [],
   "source": [
    "\"\"\"\n",
    "Esta función resolverá un sistema de ecuaciones usando la factorización de Cholesky\n",
    "\n",
    "\"\"\"\n",
    "def ResolverPorCholesky(A,b):\n",
    "    L = Cholesky(A)\n",
    "    Lt = np.transpose(L)\n",
    "    \n",
    "    # Ax = b --> LUx = b --> L(Ux) = b\n",
    "    # Ux = y ; Ly = b\")\n",
    "    # Donde U = l transpuesta\n",
    "    \n",
    "    y = sust_progresiva(L,b)\n",
    "    \n",
    "    x = sust_regresiva(Lt,y)\n",
    "    \n",
    "    return (x)"
   ]
  },
  {
   "cell_type": "code",
   "execution_count": 57,
   "id": "63842240",
   "metadata": {},
   "outputs": [
    {
     "name": "stdout",
     "output_type": "stream",
     "text": [
      "Caso 1:\n",
      "x = \n",
      " [11.6875 -5.0625 -1.125 ]\n",
      "\n",
      "Caso 2:\n",
      "x = \n",
      " [nan nan nan]\n"
     ]
    },
    {
     "name": "stderr",
     "output_type": "stream",
     "text": [
      "C:\\Users\\mario\\AppData\\Local\\Temp/ipykernel_10432/2171346353.py:9: RuntimeWarning: invalid value encountered in sqrt\n",
      "  L[i,i] = np.sqrt(A[i,i] - np.dot(L[i, :i], L[i, :i]))\n"
     ]
    }
   ],
   "source": [
    "\"\"\"\n",
    "MAIN\n",
    "\"\"\"\n",
    "print (\"Caso 1:\")\n",
    "A = np.array([[2, 4, 1], [4, 10, 1], [1, 1, 5]])\n",
    "b = np.array([2, -5, 1])\n",
    "\n",
    "x = ResolverPorCholesky(A,b)\n",
    "print (\"x = \\n\", x)\n",
    "\n",
    "print (\"\\nCaso 2:\")\n",
    "A = np.array([[2, 4, 1], [4, 0, 1], [1, 1, 5]])\n",
    "\n",
    "x = ResolverPorCholesky(A,b)\n",
    "\n",
    "print (\"x = \\n\", x)"
   ]
  },
  {
   "cell_type": "markdown",
   "id": "ba8abec1",
   "metadata": {},
   "source": [
    "  "
   ]
  },
  {
   "cell_type": "code",
   "execution_count": null,
   "id": "6e3aa090",
   "metadata": {},
   "outputs": [],
   "source": [
    "\"\"\"\n",
    "Esta función comprueba si una matriz es definida positiva \n",
    "(Esto sería útil a la hora de comprobar si se puede aplicar la factorización de Cholesky, pero es demasiado costoso)\n",
    "\"\"\"\n",
    "def EsDefinidaPos(A):   \n",
    "    n = np.shape(A)[1]\n",
    "    \n",
    "    i = 1\n",
    "    def_pos_ok = True\n",
    "    while (def_pos_ok==True and i <= n):\n",
    "        if ((np.linalg.det(A[:i, :i])) <= 0):\n",
    "            def_pos_ok = False\n",
    "        i = i+1\n",
    "    \n",
    "    return (def_pos_ok)"
   ]
  }
 ],
 "metadata": {
  "kernelspec": {
   "display_name": "Python 3 (ipykernel)",
   "language": "python",
   "name": "python3"
  },
  "language_info": {
   "codemirror_mode": {
    "name": "ipython",
    "version": 3
   },
   "file_extension": ".py",
   "mimetype": "text/x-python",
   "name": "python",
   "nbconvert_exporter": "python",
   "pygments_lexer": "ipython3",
   "version": "3.9.7"
  }
 },
 "nbformat": 4,
 "nbformat_minor": 5
}
