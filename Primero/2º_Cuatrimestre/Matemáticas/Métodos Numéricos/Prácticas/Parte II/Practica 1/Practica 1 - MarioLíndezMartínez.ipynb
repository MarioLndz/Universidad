{
 "cells": [
  {
   "cell_type": "markdown",
   "id": "bcf8c77b",
   "metadata": {},
   "source": [
    "# Práctica de Interpolación"
   ]
  },
  {
   "cell_type": "markdown",
   "id": "ac95d5aa",
   "metadata": {},
   "source": [
    "Mario Líndez Martínez"
   ]
  },
  {
   "cell_type": "markdown",
   "id": "e76ee7c9",
   "metadata": {},
   "source": [
    "### Recrearemos el gráfico en el cual se incluyen la función interpolada $f(x)=\\frac{1}{1+x^2}$ y las gráficas de los polinomios de grados 6 y 14 que interpolan a $f(x)$ en puntos equiespaciados del intervalo $[-5, 5]$."
   ]
  },
  {
   "cell_type": "code",
   "execution_count": 1,
   "id": "31ee6830",
   "metadata": {},
   "outputs": [],
   "source": [
    "import numpy as np\n",
    "import matplotlib.pyplot as plt"
   ]
  },
  {
   "cell_type": "markdown",
   "id": "9dda80a9",
   "metadata": {},
   "source": [
    "##### 1. Construya un array que contenga un conjunto de $n+1$ puntos equiespaciados del intervalo $[-5,5]$."
   ]
  },
  {
   "cell_type": "code",
   "execution_count": 2,
   "id": "8b7f9624",
   "metadata": {},
   "outputs": [],
   "source": [
    "def puntos(n = 14):\n",
    "    \"\"\"\n",
    "    Calculará n+1 puntos equidistantes entre -5 y 5\n",
    "    \"\"\"\n",
    "    x = np.zeros([n+1])\n",
    "\n",
    "    for k in range (0, n+1):\n",
    "        x[k] = -5 + ((10*k)/n)\n",
    "    \n",
    "    return (x)"
   ]
  },
  {
   "cell_type": "code",
   "execution_count": 3,
   "id": "6088ada6",
   "metadata": {},
   "outputs": [
    {
     "name": "stdout",
     "output_type": "stream",
     "text": [
      "x6 =  [-5.         -3.33333333 -1.66666667  0.          1.66666667  3.33333333\n",
      "  5.        ] \n",
      "\n",
      "x14 =  [-5.         -4.28571429 -3.57142857 -2.85714286 -2.14285714 -1.42857143\n",
      " -0.71428571  0.          0.71428571  1.42857143  2.14285714  2.85714286\n",
      "  3.57142857  4.28571429  5.        ] \n",
      "\n"
     ]
    }
   ],
   "source": [
    "x6 = puntos(6)\n",
    "print (\"x6 = \", x6, \"\\n\")\n",
    "\n",
    "x14 = puntos (14)\n",
    "print (\"x14 = \", x14, \"\\n\")"
   ]
  },
  {
   "cell_type": "markdown",
   "id": "fc11876c",
   "metadata": {},
   "source": [
    "  "
   ]
  },
  {
   "cell_type": "markdown",
   "id": "59ba29d2",
   "metadata": {},
   "source": [
    "##### 2. Construya un array que contenga las imágenes mediante $f$ de los puntos anteriores."
   ]
  },
  {
   "cell_type": "code",
   "execution_count": 4,
   "id": "4beb46b9",
   "metadata": {},
   "outputs": [],
   "source": [
    "def f(x):\n",
    "    \"\"\"\n",
    "    Funcion a interpolar\n",
    "    \"\"\"\n",
    "    return (1/(1+x**2))"
   ]
  },
  {
   "cell_type": "code",
   "execution_count": 5,
   "id": "fe849cf1",
   "metadata": {},
   "outputs": [
    {
     "name": "stdout",
     "output_type": "stream",
     "text": [
      "y6 =  [0.03846154 0.08256881 0.26470588 1.         0.26470588 0.08256881\n",
      " 0.03846154] \n",
      "\n",
      "y6 =  [0.03846154 0.0516333  0.0727003  0.1091314  0.17883212 0.32885906\n",
      " 0.66216216 1.         0.66216216 0.32885906 0.17883212 0.1091314\n",
      " 0.0727003  0.0516333  0.03846154] \n",
      "\n"
     ]
    }
   ],
   "source": [
    "y6 = f(x6)\n",
    "print (\"y6 = \", y6, \"\\n\")\n",
    "\n",
    "y14 = f(x14)\n",
    "print (\"y6 = \", y14, \"\\n\")"
   ]
  },
  {
   "cell_type": "markdown",
   "id": "4f8eb4b1",
   "metadata": {},
   "source": [
    "  "
   ]
  },
  {
   "cell_type": "markdown",
   "id": "50029667",
   "metadata": {},
   "source": [
    "##### 3. Construya una función en Python que a partir de los arrays anteriores calcule la tabla de diferencias divididas. Dicha función debe devolver sólo los coeficientes del polinomio de interpolación en su forma de Newton"
   ]
  },
  {
   "cell_type": "code",
   "execution_count": 6,
   "id": "54d642b3",
   "metadata": {},
   "outputs": [],
   "source": [
    "def DiferenciasDivididas (x, y):\n",
    "    \"\"\"\n",
    "    Funcion que devuelve una matriz que represente la tabla de diferencias divididas de un vector de puntos x y su vector\n",
    "    de imagenes asociadas\n",
    "    \"\"\"\n",
    "    \n",
    "    n = len(x)\n",
    "    A = np.zeros([n, n])\n",
    "    \n",
    "    for i in range (0, n):\n",
    "        A[i, 0] = y[i]\n",
    "    \n",
    "    for j in range (1, n):\n",
    "        for i in range (j, n):\n",
    "            A[i, j] = (A[i,j-1] - A[i-1,j-1])/(x[i] - x[i-j])\n",
    "            \n",
    "    return (A)"
   ]
  },
  {
   "cell_type": "code",
   "execution_count": 7,
   "id": "db5cf4a6",
   "metadata": {},
   "outputs": [],
   "source": [
    "def CoeficientesNewton (x, y):\n",
    "    \"\"\"\n",
    "    Esta funcion devolverá un vector que contendrá los coeficientes de Newton de un polinomio de interpolacion de puntos x\n",
    "    e imagenes y\n",
    "    \"\"\"\n",
    "    \n",
    "    difdivididas = DiferenciasDivididas (x, y)\n",
    "    \n",
    "    n = len(difdivididas)\n",
    "    A = np.zeros(n)\n",
    "    \n",
    "    \n",
    "    for i in range (0, n):\n",
    "        A[i] = difdivididas[i, i]\n",
    "        \n",
    "    return (A)"
   ]
  },
  {
   "cell_type": "code",
   "execution_count": 8,
   "id": "0884a2bb",
   "metadata": {},
   "outputs": [
    {
     "name": "stdout",
     "output_type": "stream",
     "text": [
      "Coeficientes6 = \n",
      " [ 0.03846154  0.02646436  0.02484537  0.01494458 -0.01316991  0.00420316\n",
      " -0.00084063] \n",
      "\n",
      "Coeficientes14 = \n",
      " [ 3.84615385e-02  1.84404636e-02  7.73733400e-03  3.41576279e-03\n",
      "  1.67055663e-03  8.38758618e-04  8.39510789e-05 -7.78793561e-04\n",
      "  3.12759078e-04  3.57126262e-05 -7.87405270e-05  3.90679520e-05\n",
      " -1.25343013e-05  3.06783597e-06 -6.13567195e-07] \n",
      "\n"
     ]
    }
   ],
   "source": [
    "coeficientes6 = CoeficientesNewton (x6, y6)\n",
    "print (\"Coeficientes6 = \\n\", coeficientes6, \"\\n\")\n",
    "\n",
    "coeficientes14 = CoeficientesNewton (x14, y14)\n",
    "print (\"Coeficientes14 = \\n\", coeficientes14, \"\\n\")"
   ]
  },
  {
   "cell_type": "markdown",
   "id": "55b236aa",
   "metadata": {},
   "source": [
    "  "
   ]
  },
  {
   "cell_type": "markdown",
   "id": "60ba344c",
   "metadata": {},
   "source": [
    "##### 4. Construya una función en Python que a partir del array de puntos y del array de coeficientes proporcione el valor del polinomio interpolación de Newton en un punto x."
   ]
  },
  {
   "cell_type": "code",
   "execution_count": 13,
   "id": "3e69a6f3",
   "metadata": {},
   "outputs": [],
   "source": [
    "def PolInterp (puntos, coef, x):\n",
    "    \"\"\"\n",
    "    Funcion que a traves de un array de puntos de interpolacion y sus coeficientes de Newton evaluara su polinomio de\n",
    "    interpolacion en el punto x dado a traves del metodo de Newton-Horner\n",
    "    \"\"\"\n",
    "    \n",
    "    n = len(coef) - 1\n",
    "    \n",
    "    xn = puntos\n",
    "    dn = coef\n",
    "    \n",
    "    bn = dn[n]\n",
    "    print (bn)\n",
    "        \n",
    "    for i in range (n, 0, -1):\n",
    "        bn = dn[i-1] + bn*(x - xn[i-1])\n",
    "        \n",
    "    return (bn)"
   ]
  },
  {
   "cell_type": "code",
   "execution_count": 14,
   "id": "7a13d88c",
   "metadata": {},
   "outputs": [
    {
     "name": "stdout",
     "output_type": "stream",
     "text": [
      "[ 0.03846154  0.02646436  0.02484537  0.01494458 -0.01316991  0.00420316\n",
      " -0.00084063]\n",
      "-0.0008406326539084231\n",
      "0.9999999999999999\n"
     ]
    }
   ],
   "source": [
    "print (PolInterp (x6, coeficientes6, 0))"
   ]
  },
  {
   "cell_type": "markdown",
   "id": "9977e79e",
   "metadata": {},
   "source": [
    "  "
   ]
  },
  {
   "cell_type": "markdown",
   "id": "afe3eea3",
   "metadata": {},
   "source": [
    "##### 5. Utilice la función anterior para construir la gráfica pedida."
   ]
  },
  {
   "cell_type": "code",
   "execution_count": 11,
   "id": "d54a2a3a",
   "metadata": {},
   "outputs": [
    {
     "name": "stdout",
     "output_type": "stream",
     "text": [
      "[ 0.03846154  0.02646436  0.02484537  0.01494458 -0.01316991  0.00420316\n",
      " -0.00084063]\n",
      "[ 3.84615385e-02  1.84404636e-02  7.73733400e-03  3.41576279e-03\n",
      "  1.67055663e-03  8.38758618e-04  8.39510789e-05 -7.78793561e-04\n",
      "  3.12759078e-04  3.57126262e-05 -7.87405270e-05  3.90679520e-05\n",
      " -1.25343013e-05  3.06783597e-06 -6.13567195e-07]\n"
     ]
    }
   ],
   "source": [
    "#Puntos a representar\n",
    "pt = np.arange(-5, 5.1, 0.1)\n",
    "\n",
    "#Imagen del polinomio de grado 6\n",
    "Imgx6 = PolInterp (x6, coeficientes6, pt)\n",
    "\n",
    "#Imagen del polinomio de grado 14\n",
    "Imgx14 = PolInterp (x14, coeficientes14, pt)\n",
    "\n",
    "#Imagen de la funcion\n",
    "Img = f(pt)"
   ]
  },
  {
   "cell_type": "code",
   "execution_count": 12,
   "id": "b74b2ce2",
   "metadata": {},
   "outputs": [
    {
     "data": {
      "image/png": "[encoded data removed]",
      "text/plain": [
       "<Figure size 720x720 with 1 Axes>"
      ]
     },
     "metadata": {
      "needs_background": "light"
     },
     "output_type": "display_data"
    }
   ],
   "source": [
    "#Crearemos la gráfica\n",
    "\n",
    "#Tamaño de la imagen\n",
    "plt.rcParams[\"figure.figsize\"] = (10, 10)\n",
    "\n",
    "#Añadimos las 3 figuras\n",
    "plt.plot(pt, Imgx6, label = \"$P_6(x)$\")\n",
    "plt.plot(pt, Imgx14, color=\"blue\", label = \"$P_{14}(x)$\")\n",
    "plt.plot(pt, Img, color = \"red\", label = \"$f(x)$\")\n",
    "\n",
    "#Creamos la leyenda\n",
    "plt.legend(bbox_to_anchor=(1.05, 1.0), loc='upper left')\n",
    "\n",
    "#Establecemos un límite para la y\n",
    "plt.ylim(-1, 2)\n",
    "\n",
    "#Mostramos el grid y mostramos la gráfica\n",
    "plt.grid(linestyle='dotted', linewidth=1)\n",
    "plt.show()"
   ]
  },
  {
   "cell_type": "code",
   "execution_count": null,
   "id": "0011abc7",
   "metadata": {},
   "outputs": [],
   "source": []
  }
 ],
 "metadata": {
  "kernelspec": {
   "display_name": "Python 3 (ipykernel)",
   "language": "python",
   "name": "python3"
  },
  "language_info": {
   "codemirror_mode": {
    "name": "ipython",
    "version": 3
   },
   "file_extension": ".py",
   "mimetype": "text/x-python",
   "name": "python",
   "nbconvert_exporter": "python",
   "pygments_lexer": "ipython3",
   "version": "3.9.7"
  }
 },
 "nbformat": 4,
 "nbformat_minor": 5
}
